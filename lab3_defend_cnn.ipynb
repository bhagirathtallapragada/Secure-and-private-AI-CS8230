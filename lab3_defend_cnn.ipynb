{
  "nbformat": 4,
  "nbformat_minor": 0,
  "metadata": {
    "colab": {
      "name": "lab3_defend_cnn.ipynb",
      "provenance": [],
      "collapsed_sections": [],
      "include_colab_link": true
    },
    "kernelspec": {
      "display_name": "Python 3",
      "language": "python",
      "name": "python3"
    },
    "language_info": {
      "codemirror_mode": {
        "name": "ipython",
        "version": 3
      },
      "file_extension": ".py",
      "mimetype": "text/x-python",
      "name": "python",
      "nbconvert_exporter": "python",
      "pygments_lexer": "ipython3",
      "version": "3.6.8"
    },
    "toc": {
      "base_numbering": 1,
      "nav_menu": {},
      "number_sections": true,
      "sideBar": true,
      "skip_h1_title": false,
      "title_cell": "Table of Contents",
      "title_sidebar": "Contents",
      "toc_cell": false,
      "toc_position": {},
      "toc_section_display": true,
      "toc_window_display": false
    },
    "widgets": {
      "application/vnd.jupyter.widget-state+json": {
        "cea5351e493c4ae28c02334d4e5a849d": {
          "model_module": "@jupyter-widgets/controls",
          "model_name": "HBoxModel",
          "model_module_version": "1.5.0",
          "state": {
            "_view_name": "HBoxView",
            "_dom_classes": [],
            "_model_name": "HBoxModel",
            "_view_module": "@jupyter-widgets/controls",
            "_model_module_version": "1.5.0",
            "_view_count": null,
            "_view_module_version": "1.5.0",
            "box_style": "",
            "layout": "IPY_MODEL_607413f5eadf4be08d02b93144fafd8a",
            "_model_module": "@jupyter-widgets/controls",
            "children": [
              "IPY_MODEL_ec870a8663034b8882345ec74c1b38d9",
              "IPY_MODEL_aa05de21c30547e086ae8a80ef4d06a4",
              "IPY_MODEL_ad8ef68454af4c38b6f216d47215009d"
            ]
          }
        },
        "607413f5eadf4be08d02b93144fafd8a": {
          "model_module": "@jupyter-widgets/base",
          "model_name": "LayoutModel",
          "model_module_version": "1.2.0",
          "state": {
            "_view_name": "LayoutView",
            "grid_template_rows": null,
            "right": null,
            "justify_content": null,
            "_view_module": "@jupyter-widgets/base",
            "overflow": null,
            "_model_module_version": "1.2.0",
            "_view_count": null,
            "flex_flow": null,
            "width": null,
            "min_width": null,
            "border": null,
            "align_items": null,
            "bottom": null,
            "_model_module": "@jupyter-widgets/base",
            "top": null,
            "grid_column": null,
            "overflow_y": null,
            "overflow_x": null,
            "grid_auto_flow": null,
            "grid_area": null,
            "grid_template_columns": null,
            "flex": null,
            "_model_name": "LayoutModel",
            "justify_items": null,
            "grid_row": null,
            "max_height": null,
            "align_content": null,
            "visibility": null,
            "align_self": null,
            "height": null,
            "min_height": null,
            "padding": null,
            "grid_auto_rows": null,
            "grid_gap": null,
            "max_width": null,
            "order": null,
            "_view_module_version": "1.2.0",
            "grid_template_areas": null,
            "object_position": null,
            "object_fit": null,
            "grid_auto_columns": null,
            "margin": null,
            "display": null,
            "left": null
          }
        },
        "ec870a8663034b8882345ec74c1b38d9": {
          "model_module": "@jupyter-widgets/controls",
          "model_name": "HTMLModel",
          "model_module_version": "1.5.0",
          "state": {
            "_view_name": "HTMLView",
            "style": "IPY_MODEL_42daf272c33c40a4b034362e3c19c3ee",
            "_dom_classes": [],
            "description": "",
            "_model_name": "HTMLModel",
            "placeholder": "​",
            "_view_module": "@jupyter-widgets/controls",
            "_model_module_version": "1.5.0",
            "value": "HopSkipJump:  56%",
            "_view_count": null,
            "_view_module_version": "1.5.0",
            "description_tooltip": null,
            "_model_module": "@jupyter-widgets/controls",
            "layout": "IPY_MODEL_8051fb04d11141ec9b7066dde5025cd7"
          }
        },
        "aa05de21c30547e086ae8a80ef4d06a4": {
          "model_module": "@jupyter-widgets/controls",
          "model_name": "FloatProgressModel",
          "model_module_version": "1.5.0",
          "state": {
            "_view_name": "ProgressView",
            "style": "IPY_MODEL_8cca5efb98c940ed9810dae05b1d61e1",
            "_dom_classes": [],
            "description": "",
            "_model_name": "FloatProgressModel",
            "bar_style": "danger",
            "max": 400,
            "_view_module": "@jupyter-widgets/controls",
            "_model_module_version": "1.5.0",
            "value": 226,
            "_view_count": null,
            "_view_module_version": "1.5.0",
            "orientation": "horizontal",
            "min": 0,
            "description_tooltip": null,
            "_model_module": "@jupyter-widgets/controls",
            "layout": "IPY_MODEL_042347b195d040e69da7416c94f64801"
          }
        },
        "ad8ef68454af4c38b6f216d47215009d": {
          "model_module": "@jupyter-widgets/controls",
          "model_name": "HTMLModel",
          "model_module_version": "1.5.0",
          "state": {
            "_view_name": "HTMLView",
            "style": "IPY_MODEL_8dbae31a88cf4644bbd667e2f80b70c8",
            "_dom_classes": [],
            "description": "",
            "_model_name": "HTMLModel",
            "placeholder": "​",
            "_view_module": "@jupyter-widgets/controls",
            "_model_module_version": "1.5.0",
            "value": " 226/400 [08:49&lt;51:42, 17.83s/it]",
            "_view_count": null,
            "_view_module_version": "1.5.0",
            "description_tooltip": null,
            "_model_module": "@jupyter-widgets/controls",
            "layout": "IPY_MODEL_b891c0d9a3e94aa0b0b1b5fd121fbb05"
          }
        },
        "42daf272c33c40a4b034362e3c19c3ee": {
          "model_module": "@jupyter-widgets/controls",
          "model_name": "DescriptionStyleModel",
          "model_module_version": "1.5.0",
          "state": {
            "_view_name": "StyleView",
            "_model_name": "DescriptionStyleModel",
            "description_width": "",
            "_view_module": "@jupyter-widgets/base",
            "_model_module_version": "1.5.0",
            "_view_count": null,
            "_view_module_version": "1.2.0",
            "_model_module": "@jupyter-widgets/controls"
          }
        },
        "8051fb04d11141ec9b7066dde5025cd7": {
          "model_module": "@jupyter-widgets/base",
          "model_name": "LayoutModel",
          "model_module_version": "1.2.0",
          "state": {
            "_view_name": "LayoutView",
            "grid_template_rows": null,
            "right": null,
            "justify_content": null,
            "_view_module": "@jupyter-widgets/base",
            "overflow": null,
            "_model_module_version": "1.2.0",
            "_view_count": null,
            "flex_flow": null,
            "width": null,
            "min_width": null,
            "border": null,
            "align_items": null,
            "bottom": null,
            "_model_module": "@jupyter-widgets/base",
            "top": null,
            "grid_column": null,
            "overflow_y": null,
            "overflow_x": null,
            "grid_auto_flow": null,
            "grid_area": null,
            "grid_template_columns": null,
            "flex": null,
            "_model_name": "LayoutModel",
            "justify_items": null,
            "grid_row": null,
            "max_height": null,
            "align_content": null,
            "visibility": null,
            "align_self": null,
            "height": null,
            "min_height": null,
            "padding": null,
            "grid_auto_rows": null,
            "grid_gap": null,
            "max_width": null,
            "order": null,
            "_view_module_version": "1.2.0",
            "grid_template_areas": null,
            "object_position": null,
            "object_fit": null,
            "grid_auto_columns": null,
            "margin": null,
            "display": null,
            "left": null
          }
        },
        "8cca5efb98c940ed9810dae05b1d61e1": {
          "model_module": "@jupyter-widgets/controls",
          "model_name": "ProgressStyleModel",
          "model_module_version": "1.5.0",
          "state": {
            "_view_name": "StyleView",
            "_model_name": "ProgressStyleModel",
            "description_width": "",
            "_view_module": "@jupyter-widgets/base",
            "_model_module_version": "1.5.0",
            "_view_count": null,
            "_view_module_version": "1.2.0",
            "bar_color": null,
            "_model_module": "@jupyter-widgets/controls"
          }
        },
        "042347b195d040e69da7416c94f64801": {
          "model_module": "@jupyter-widgets/base",
          "model_name": "LayoutModel",
          "model_module_version": "1.2.0",
          "state": {
            "_view_name": "LayoutView",
            "grid_template_rows": null,
            "right": null,
            "justify_content": null,
            "_view_module": "@jupyter-widgets/base",
            "overflow": null,
            "_model_module_version": "1.2.0",
            "_view_count": null,
            "flex_flow": null,
            "width": null,
            "min_width": null,
            "border": null,
            "align_items": null,
            "bottom": null,
            "_model_module": "@jupyter-widgets/base",
            "top": null,
            "grid_column": null,
            "overflow_y": null,
            "overflow_x": null,
            "grid_auto_flow": null,
            "grid_area": null,
            "grid_template_columns": null,
            "flex": null,
            "_model_name": "LayoutModel",
            "justify_items": null,
            "grid_row": null,
            "max_height": null,
            "align_content": null,
            "visibility": null,
            "align_self": null,
            "height": null,
            "min_height": null,
            "padding": null,
            "grid_auto_rows": null,
            "grid_gap": null,
            "max_width": null,
            "order": null,
            "_view_module_version": "1.2.0",
            "grid_template_areas": null,
            "object_position": null,
            "object_fit": null,
            "grid_auto_columns": null,
            "margin": null,
            "display": null,
            "left": null
          }
        },
        "8dbae31a88cf4644bbd667e2f80b70c8": {
          "model_module": "@jupyter-widgets/controls",
          "model_name": "DescriptionStyleModel",
          "model_module_version": "1.5.0",
          "state": {
            "_view_name": "StyleView",
            "_model_name": "DescriptionStyleModel",
            "description_width": "",
            "_view_module": "@jupyter-widgets/base",
            "_model_module_version": "1.5.0",
            "_view_count": null,
            "_view_module_version": "1.2.0",
            "_model_module": "@jupyter-widgets/controls"
          }
        },
        "b891c0d9a3e94aa0b0b1b5fd121fbb05": {
          "model_module": "@jupyter-widgets/base",
          "model_name": "LayoutModel",
          "model_module_version": "1.2.0",
          "state": {
            "_view_name": "LayoutView",
            "grid_template_rows": null,
            "right": null,
            "justify_content": null,
            "_view_module": "@jupyter-widgets/base",
            "overflow": null,
            "_model_module_version": "1.2.0",
            "_view_count": null,
            "flex_flow": null,
            "width": null,
            "min_width": null,
            "border": null,
            "align_items": null,
            "bottom": null,
            "_model_module": "@jupyter-widgets/base",
            "top": null,
            "grid_column": null,
            "overflow_y": null,
            "overflow_x": null,
            "grid_auto_flow": null,
            "grid_area": null,
            "grid_template_columns": null,
            "flex": null,
            "_model_name": "LayoutModel",
            "justify_items": null,
            "grid_row": null,
            "max_height": null,
            "align_content": null,
            "visibility": null,
            "align_self": null,
            "height": null,
            "min_height": null,
            "padding": null,
            "grid_auto_rows": null,
            "grid_gap": null,
            "max_width": null,
            "order": null,
            "_view_module_version": "1.2.0",
            "grid_template_areas": null,
            "object_position": null,
            "object_fit": null,
            "grid_auto_columns": null,
            "margin": null,
            "display": null,
            "left": null
          }
        },
        "c57ac378e4bb4179a148784f50c2ccd6": {
          "model_module": "@jupyter-widgets/controls",
          "model_name": "HBoxModel",
          "model_module_version": "1.5.0",
          "state": {
            "_view_name": "HBoxView",
            "_dom_classes": [],
            "_model_name": "HBoxModel",
            "_view_module": "@jupyter-widgets/controls",
            "_model_module_version": "1.5.0",
            "_view_count": null,
            "_view_module_version": "1.5.0",
            "box_style": "",
            "layout": "IPY_MODEL_88a231394c924768a3f4d88db7dbb21f",
            "_model_module": "@jupyter-widgets/controls",
            "children": [
              "IPY_MODEL_f4679a6f71bd44668f12fa69442043f6",
              "IPY_MODEL_070cfdb307da48ceaba1bb798a1f6108",
              "IPY_MODEL_ba255f9497f641768a51e5f7dc92d6d3"
            ]
          }
        },
        "88a231394c924768a3f4d88db7dbb21f": {
          "model_module": "@jupyter-widgets/base",
          "model_name": "LayoutModel",
          "model_module_version": "1.2.0",
          "state": {
            "_view_name": "LayoutView",
            "grid_template_rows": null,
            "right": null,
            "justify_content": null,
            "_view_module": "@jupyter-widgets/base",
            "overflow": null,
            "_model_module_version": "1.2.0",
            "_view_count": null,
            "flex_flow": null,
            "width": null,
            "min_width": null,
            "border": null,
            "align_items": null,
            "bottom": null,
            "_model_module": "@jupyter-widgets/base",
            "top": null,
            "grid_column": null,
            "overflow_y": null,
            "overflow_x": null,
            "grid_auto_flow": null,
            "grid_area": null,
            "grid_template_columns": null,
            "flex": null,
            "_model_name": "LayoutModel",
            "justify_items": null,
            "grid_row": null,
            "max_height": null,
            "align_content": null,
            "visibility": null,
            "align_self": null,
            "height": null,
            "min_height": null,
            "padding": null,
            "grid_auto_rows": null,
            "grid_gap": null,
            "max_width": null,
            "order": null,
            "_view_module_version": "1.2.0",
            "grid_template_areas": null,
            "object_position": null,
            "object_fit": null,
            "grid_auto_columns": null,
            "margin": null,
            "display": null,
            "left": null
          }
        },
        "f4679a6f71bd44668f12fa69442043f6": {
          "model_module": "@jupyter-widgets/controls",
          "model_name": "HTMLModel",
          "model_module_version": "1.5.0",
          "state": {
            "_view_name": "HTMLView",
            "style": "IPY_MODEL_b001b9e3b25140e7b74517de73cea806",
            "_dom_classes": [],
            "description": "",
            "_model_name": "HTMLModel",
            "placeholder": "​",
            "_view_module": "@jupyter-widgets/controls",
            "_model_module_version": "1.5.0",
            "value": "Precompute adv samples: 100%",
            "_view_count": null,
            "_view_module_version": "1.5.0",
            "description_tooltip": null,
            "_model_module": "@jupyter-widgets/controls",
            "layout": "IPY_MODEL_7e763b20d0df4a238bdd5149069bfead"
          }
        },
        "070cfdb307da48ceaba1bb798a1f6108": {
          "model_module": "@jupyter-widgets/controls",
          "model_name": "FloatProgressModel",
          "model_module_version": "1.5.0",
          "state": {
            "_view_name": "ProgressView",
            "style": "IPY_MODEL_a3fe323b66e543ac921f3ae93f319883",
            "_dom_classes": [],
            "description": "",
            "_model_name": "FloatProgressModel",
            "bar_style": "success",
            "max": 1,
            "_view_module": "@jupyter-widgets/controls",
            "_model_module_version": "1.5.0",
            "value": 1,
            "_view_count": null,
            "_view_module_version": "1.5.0",
            "orientation": "horizontal",
            "min": 0,
            "description_tooltip": null,
            "_model_module": "@jupyter-widgets/controls",
            "layout": "IPY_MODEL_9afe8774c2464b0b91a3290d2a83f43c"
          }
        },
        "ba255f9497f641768a51e5f7dc92d6d3": {
          "model_module": "@jupyter-widgets/controls",
          "model_name": "HTMLModel",
          "model_module_version": "1.5.0",
          "state": {
            "_view_name": "HTMLView",
            "style": "IPY_MODEL_9f000e5cb7f141d19fbb737fec1d9365",
            "_dom_classes": [],
            "description": "",
            "_model_name": "HTMLModel",
            "placeholder": "​",
            "_view_module": "@jupyter-widgets/controls",
            "_model_module_version": "1.5.0",
            "value": " 1/1 [00:00&lt;00:00, 15.57it/s]",
            "_view_count": null,
            "_view_module_version": "1.5.0",
            "description_tooltip": null,
            "_model_module": "@jupyter-widgets/controls",
            "layout": "IPY_MODEL_f08fd48b872b477192c5317da8ae04da"
          }
        },
        "b001b9e3b25140e7b74517de73cea806": {
          "model_module": "@jupyter-widgets/controls",
          "model_name": "DescriptionStyleModel",
          "model_module_version": "1.5.0",
          "state": {
            "_view_name": "StyleView",
            "_model_name": "DescriptionStyleModel",
            "description_width": "",
            "_view_module": "@jupyter-widgets/base",
            "_model_module_version": "1.5.0",
            "_view_count": null,
            "_view_module_version": "1.2.0",
            "_model_module": "@jupyter-widgets/controls"
          }
        },
        "7e763b20d0df4a238bdd5149069bfead": {
          "model_module": "@jupyter-widgets/base",
          "model_name": "LayoutModel",
          "model_module_version": "1.2.0",
          "state": {
            "_view_name": "LayoutView",
            "grid_template_rows": null,
            "right": null,
            "justify_content": null,
            "_view_module": "@jupyter-widgets/base",
            "overflow": null,
            "_model_module_version": "1.2.0",
            "_view_count": null,
            "flex_flow": null,
            "width": null,
            "min_width": null,
            "border": null,
            "align_items": null,
            "bottom": null,
            "_model_module": "@jupyter-widgets/base",
            "top": null,
            "grid_column": null,
            "overflow_y": null,
            "overflow_x": null,
            "grid_auto_flow": null,
            "grid_area": null,
            "grid_template_columns": null,
            "flex": null,
            "_model_name": "LayoutModel",
            "justify_items": null,
            "grid_row": null,
            "max_height": null,
            "align_content": null,
            "visibility": null,
            "align_self": null,
            "height": null,
            "min_height": null,
            "padding": null,
            "grid_auto_rows": null,
            "grid_gap": null,
            "max_width": null,
            "order": null,
            "_view_module_version": "1.2.0",
            "grid_template_areas": null,
            "object_position": null,
            "object_fit": null,
            "grid_auto_columns": null,
            "margin": null,
            "display": null,
            "left": null
          }
        },
        "a3fe323b66e543ac921f3ae93f319883": {
          "model_module": "@jupyter-widgets/controls",
          "model_name": "ProgressStyleModel",
          "model_module_version": "1.5.0",
          "state": {
            "_view_name": "StyleView",
            "_model_name": "ProgressStyleModel",
            "description_width": "",
            "_view_module": "@jupyter-widgets/base",
            "_model_module_version": "1.5.0",
            "_view_count": null,
            "_view_module_version": "1.2.0",
            "bar_color": null,
            "_model_module": "@jupyter-widgets/controls"
          }
        },
        "9afe8774c2464b0b91a3290d2a83f43c": {
          "model_module": "@jupyter-widgets/base",
          "model_name": "LayoutModel",
          "model_module_version": "1.2.0",
          "state": {
            "_view_name": "LayoutView",
            "grid_template_rows": null,
            "right": null,
            "justify_content": null,
            "_view_module": "@jupyter-widgets/base",
            "overflow": null,
            "_model_module_version": "1.2.0",
            "_view_count": null,
            "flex_flow": null,
            "width": null,
            "min_width": null,
            "border": null,
            "align_items": null,
            "bottom": null,
            "_model_module": "@jupyter-widgets/base",
            "top": null,
            "grid_column": null,
            "overflow_y": null,
            "overflow_x": null,
            "grid_auto_flow": null,
            "grid_area": null,
            "grid_template_columns": null,
            "flex": null,
            "_model_name": "LayoutModel",
            "justify_items": null,
            "grid_row": null,
            "max_height": null,
            "align_content": null,
            "visibility": null,
            "align_self": null,
            "height": null,
            "min_height": null,
            "padding": null,
            "grid_auto_rows": null,
            "grid_gap": null,
            "max_width": null,
            "order": null,
            "_view_module_version": "1.2.0",
            "grid_template_areas": null,
            "object_position": null,
            "object_fit": null,
            "grid_auto_columns": null,
            "margin": null,
            "display": null,
            "left": null
          }
        },
        "9f000e5cb7f141d19fbb737fec1d9365": {
          "model_module": "@jupyter-widgets/controls",
          "model_name": "DescriptionStyleModel",
          "model_module_version": "1.5.0",
          "state": {
            "_view_name": "StyleView",
            "_model_name": "DescriptionStyleModel",
            "description_width": "",
            "_view_module": "@jupyter-widgets/base",
            "_model_module_version": "1.5.0",
            "_view_count": null,
            "_view_module_version": "1.2.0",
            "_model_module": "@jupyter-widgets/controls"
          }
        },
        "f08fd48b872b477192c5317da8ae04da": {
          "model_module": "@jupyter-widgets/base",
          "model_name": "LayoutModel",
          "model_module_version": "1.2.0",
          "state": {
            "_view_name": "LayoutView",
            "grid_template_rows": null,
            "right": null,
            "justify_content": null,
            "_view_module": "@jupyter-widgets/base",
            "overflow": null,
            "_model_module_version": "1.2.0",
            "_view_count": null,
            "flex_flow": null,
            "width": null,
            "min_width": null,
            "border": null,
            "align_items": null,
            "bottom": null,
            "_model_module": "@jupyter-widgets/base",
            "top": null,
            "grid_column": null,
            "overflow_y": null,
            "overflow_x": null,
            "grid_auto_flow": null,
            "grid_area": null,
            "grid_template_columns": null,
            "flex": null,
            "_model_name": "LayoutModel",
            "justify_items": null,
            "grid_row": null,
            "max_height": null,
            "align_content": null,
            "visibility": null,
            "align_self": null,
            "height": null,
            "min_height": null,
            "padding": null,
            "grid_auto_rows": null,
            "grid_gap": null,
            "max_width": null,
            "order": null,
            "_view_module_version": "1.2.0",
            "grid_template_areas": null,
            "object_position": null,
            "object_fit": null,
            "grid_auto_columns": null,
            "margin": null,
            "display": null,
            "left": null
          }
        },
        "41c68756feea4f2fb360b206a37102f5": {
          "model_module": "@jupyter-widgets/controls",
          "model_name": "HBoxModel",
          "model_module_version": "1.5.0",
          "state": {
            "_view_name": "HBoxView",
            "_dom_classes": [],
            "_model_name": "HBoxModel",
            "_view_module": "@jupyter-widgets/controls",
            "_model_module_version": "1.5.0",
            "_view_count": null,
            "_view_module_version": "1.5.0",
            "box_style": "",
            "layout": "IPY_MODEL_05fb50e8a6934c859b65fd1a8d755b6d",
            "_model_module": "@jupyter-widgets/controls",
            "children": [
              "IPY_MODEL_6d9082119a6842a1a4460041dad4bdda",
              "IPY_MODEL_242cc82eceb640119e44a50faff80643",
              "IPY_MODEL_b5ec1e5a7272419d80e3f1425125dcbf"
            ]
          }
        },
        "05fb50e8a6934c859b65fd1a8d755b6d": {
          "model_module": "@jupyter-widgets/base",
          "model_name": "LayoutModel",
          "model_module_version": "1.2.0",
          "state": {
            "_view_name": "LayoutView",
            "grid_template_rows": null,
            "right": null,
            "justify_content": null,
            "_view_module": "@jupyter-widgets/base",
            "overflow": null,
            "_model_module_version": "1.2.0",
            "_view_count": null,
            "flex_flow": null,
            "width": null,
            "min_width": null,
            "border": null,
            "align_items": null,
            "bottom": null,
            "_model_module": "@jupyter-widgets/base",
            "top": null,
            "grid_column": null,
            "overflow_y": null,
            "overflow_x": null,
            "grid_auto_flow": null,
            "grid_area": null,
            "grid_template_columns": null,
            "flex": null,
            "_model_name": "LayoutModel",
            "justify_items": null,
            "grid_row": null,
            "max_height": null,
            "align_content": null,
            "visibility": null,
            "align_self": null,
            "height": null,
            "min_height": null,
            "padding": null,
            "grid_auto_rows": null,
            "grid_gap": null,
            "max_width": null,
            "order": null,
            "_view_module_version": "1.2.0",
            "grid_template_areas": null,
            "object_position": null,
            "object_fit": null,
            "grid_auto_columns": null,
            "margin": null,
            "display": null,
            "left": null
          }
        },
        "6d9082119a6842a1a4460041dad4bdda": {
          "model_module": "@jupyter-widgets/controls",
          "model_name": "HTMLModel",
          "model_module_version": "1.5.0",
          "state": {
            "_view_name": "HTMLView",
            "style": "IPY_MODEL_f7777992449a4741a0a5ddbebd462203",
            "_dom_classes": [],
            "description": "",
            "_model_name": "HTMLModel",
            "placeholder": "​",
            "_view_module": "@jupyter-widgets/controls",
            "_model_module_version": "1.5.0",
            "value": "Adversarial training epochs: 100%",
            "_view_count": null,
            "_view_module_version": "1.5.0",
            "description_tooltip": null,
            "_model_module": "@jupyter-widgets/controls",
            "layout": "IPY_MODEL_a9f809a7bfe64eb2ba9bd1203cfdf131"
          }
        },
        "242cc82eceb640119e44a50faff80643": {
          "model_module": "@jupyter-widgets/controls",
          "model_name": "FloatProgressModel",
          "model_module_version": "1.5.0",
          "state": {
            "_view_name": "ProgressView",
            "style": "IPY_MODEL_72989886dfea4b3d87d6982ffef73f62",
            "_dom_classes": [],
            "description": "",
            "_model_name": "FloatProgressModel",
            "bar_style": "success",
            "max": 5,
            "_view_module": "@jupyter-widgets/controls",
            "_model_module_version": "1.5.0",
            "value": 5,
            "_view_count": null,
            "_view_module_version": "1.5.0",
            "orientation": "horizontal",
            "min": 0,
            "description_tooltip": null,
            "_model_module": "@jupyter-widgets/controls",
            "layout": "IPY_MODEL_2028c1970fb64e4f9d799bd5982a29bc"
          }
        },
        "b5ec1e5a7272419d80e3f1425125dcbf": {
          "model_module": "@jupyter-widgets/controls",
          "model_name": "HTMLModel",
          "model_module_version": "1.5.0",
          "state": {
            "_view_name": "HTMLView",
            "style": "IPY_MODEL_bef59d14844944e28a5943d287932259",
            "_dom_classes": [],
            "description": "",
            "_model_name": "HTMLModel",
            "placeholder": "​",
            "_view_module": "@jupyter-widgets/controls",
            "_model_module_version": "1.5.0",
            "value": " 5/5 [00:10&lt;00:00,  1.91s/it]",
            "_view_count": null,
            "_view_module_version": "1.5.0",
            "description_tooltip": null,
            "_model_module": "@jupyter-widgets/controls",
            "layout": "IPY_MODEL_b5960c321f9b4b2ab322877949dbeb69"
          }
        },
        "f7777992449a4741a0a5ddbebd462203": {
          "model_module": "@jupyter-widgets/controls",
          "model_name": "DescriptionStyleModel",
          "model_module_version": "1.5.0",
          "state": {
            "_view_name": "StyleView",
            "_model_name": "DescriptionStyleModel",
            "description_width": "",
            "_view_module": "@jupyter-widgets/base",
            "_model_module_version": "1.5.0",
            "_view_count": null,
            "_view_module_version": "1.2.0",
            "_model_module": "@jupyter-widgets/controls"
          }
        },
        "a9f809a7bfe64eb2ba9bd1203cfdf131": {
          "model_module": "@jupyter-widgets/base",
          "model_name": "LayoutModel",
          "model_module_version": "1.2.0",
          "state": {
            "_view_name": "LayoutView",
            "grid_template_rows": null,
            "right": null,
            "justify_content": null,
            "_view_module": "@jupyter-widgets/base",
            "overflow": null,
            "_model_module_version": "1.2.0",
            "_view_count": null,
            "flex_flow": null,
            "width": null,
            "min_width": null,
            "border": null,
            "align_items": null,
            "bottom": null,
            "_model_module": "@jupyter-widgets/base",
            "top": null,
            "grid_column": null,
            "overflow_y": null,
            "overflow_x": null,
            "grid_auto_flow": null,
            "grid_area": null,
            "grid_template_columns": null,
            "flex": null,
            "_model_name": "LayoutModel",
            "justify_items": null,
            "grid_row": null,
            "max_height": null,
            "align_content": null,
            "visibility": null,
            "align_self": null,
            "height": null,
            "min_height": null,
            "padding": null,
            "grid_auto_rows": null,
            "grid_gap": null,
            "max_width": null,
            "order": null,
            "_view_module_version": "1.2.0",
            "grid_template_areas": null,
            "object_position": null,
            "object_fit": null,
            "grid_auto_columns": null,
            "margin": null,
            "display": null,
            "left": null
          }
        },
        "72989886dfea4b3d87d6982ffef73f62": {
          "model_module": "@jupyter-widgets/controls",
          "model_name": "ProgressStyleModel",
          "model_module_version": "1.5.0",
          "state": {
            "_view_name": "StyleView",
            "_model_name": "ProgressStyleModel",
            "description_width": "",
            "_view_module": "@jupyter-widgets/base",
            "_model_module_version": "1.5.0",
            "_view_count": null,
            "_view_module_version": "1.2.0",
            "bar_color": null,
            "_model_module": "@jupyter-widgets/controls"
          }
        },
        "2028c1970fb64e4f9d799bd5982a29bc": {
          "model_module": "@jupyter-widgets/base",
          "model_name": "LayoutModel",
          "model_module_version": "1.2.0",
          "state": {
            "_view_name": "LayoutView",
            "grid_template_rows": null,
            "right": null,
            "justify_content": null,
            "_view_module": "@jupyter-widgets/base",
            "overflow": null,
            "_model_module_version": "1.2.0",
            "_view_count": null,
            "flex_flow": null,
            "width": null,
            "min_width": null,
            "border": null,
            "align_items": null,
            "bottom": null,
            "_model_module": "@jupyter-widgets/base",
            "top": null,
            "grid_column": null,
            "overflow_y": null,
            "overflow_x": null,
            "grid_auto_flow": null,
            "grid_area": null,
            "grid_template_columns": null,
            "flex": null,
            "_model_name": "LayoutModel",
            "justify_items": null,
            "grid_row": null,
            "max_height": null,
            "align_content": null,
            "visibility": null,
            "align_self": null,
            "height": null,
            "min_height": null,
            "padding": null,
            "grid_auto_rows": null,
            "grid_gap": null,
            "max_width": null,
            "order": null,
            "_view_module_version": "1.2.0",
            "grid_template_areas": null,
            "object_position": null,
            "object_fit": null,
            "grid_auto_columns": null,
            "margin": null,
            "display": null,
            "left": null
          }
        },
        "bef59d14844944e28a5943d287932259": {
          "model_module": "@jupyter-widgets/controls",
          "model_name": "DescriptionStyleModel",
          "model_module_version": "1.5.0",
          "state": {
            "_view_name": "StyleView",
            "_model_name": "DescriptionStyleModel",
            "description_width": "",
            "_view_module": "@jupyter-widgets/base",
            "_model_module_version": "1.5.0",
            "_view_count": null,
            "_view_module_version": "1.2.0",
            "_model_module": "@jupyter-widgets/controls"
          }
        },
        "b5960c321f9b4b2ab322877949dbeb69": {
          "model_module": "@jupyter-widgets/base",
          "model_name": "LayoutModel",
          "model_module_version": "1.2.0",
          "state": {
            "_view_name": "LayoutView",
            "grid_template_rows": null,
            "right": null,
            "justify_content": null,
            "_view_module": "@jupyter-widgets/base",
            "overflow": null,
            "_model_module_version": "1.2.0",
            "_view_count": null,
            "flex_flow": null,
            "width": null,
            "min_width": null,
            "border": null,
            "align_items": null,
            "bottom": null,
            "_model_module": "@jupyter-widgets/base",
            "top": null,
            "grid_column": null,
            "overflow_y": null,
            "overflow_x": null,
            "grid_auto_flow": null,
            "grid_area": null,
            "grid_template_columns": null,
            "flex": null,
            "_model_name": "LayoutModel",
            "justify_items": null,
            "grid_row": null,
            "max_height": null,
            "align_content": null,
            "visibility": null,
            "align_self": null,
            "height": null,
            "min_height": null,
            "padding": null,
            "grid_auto_rows": null,
            "grid_gap": null,
            "max_width": null,
            "order": null,
            "_view_module_version": "1.2.0",
            "grid_template_areas": null,
            "object_position": null,
            "object_fit": null,
            "grid_auto_columns": null,
            "margin": null,
            "display": null,
            "left": null
          }
        }
      }
    }
  },
  "cells": [
    {
      "cell_type": "markdown",
      "metadata": {
        "id": "view-in-github",
        "colab_type": "text"
      },
      "source": [
        "<a href=\"https://colab.research.google.com/github/bhagirathtallapragada/Secure-and-private-AI-CS8230/blob/main/lab3_defend_cnn.ipynb\" target=\"_parent\"><img src=\"https://colab.research.google.com/assets/colab-badge.svg\" alt=\"Open In Colab\"/></a>"
      ]
    },
    {
      "cell_type": "markdown",
      "metadata": {
        "collapsed": false,
        "id": "t73zD-kTbPhj"
      },
      "source": [
        "<a href=\"https://colab.research.google.com/github/inspire-lab/SecurePrivateAI/blob/main/3_defend_cnn.ipynb\" target=\"_parent\"><img src=\"https://colab.research.google.com/assets/colab-badge.svg\" alt=\"Open In Colab\"/></a>"
      ]
    },
    {
      "cell_type": "markdown",
      "metadata": {
        "id": "NiCBeUwVp9AS"
      },
      "source": [
        "# Defense with adversarial training\n",
        "\n",
        "In this section we will use adversarial training to harden our CNN against adversarial examples. \n",
        "\n",
        "In adversarial training the dataset get \"augmented\" with adversarial examples that are correctly labeled. This way the network learns that such perturbations are possible and can adapt to them.\n",
        "\n",
        "We will be using the IBM Adversarial Robustness Toolbox in this exercise. It offers a very easy-to-use implementation of adversarial training and a number of other defenses. \n",
        "https://github.com/IBM/adversarial-robustness-toolbox\n",
        "\n",
        "\n",
        "We start out by importing most of the modules and functions we will need. "
      ]
    },
    {
      "cell_type": "code",
      "metadata": {
        "ExecuteTime": {
          "end_time": "2021-09-20T20:27:50.161074Z",
          "start_time": "2021-09-20T20:27:48.453713Z"
        },
        "scrolled": true,
        "id": "awO-0ez7bPho",
        "colab": {
          "base_uri": "https://localhost:8080/",
          "height": 799
        },
        "outputId": "6cb05209-0028-48a5-c525-71d08d0334d4"
      },
      "source": [
        "!pip install tensorflow-gpu==1.15.2 keras==2.2.3"
      ],
      "execution_count": null,
      "outputs": [
        {
          "output_type": "stream",
          "name": "stdout",
          "text": [
            "Requirement already satisfied: tensorflow-gpu==1.15.2 in /usr/local/lib/python3.7/dist-packages (1.15.2)\n",
            "Collecting keras==2.2.3\n",
            "  Downloading Keras-2.2.3-py2.py3-none-any.whl (312 kB)\n",
            "\u001b[K     |████████████████████████████████| 312 kB 5.2 MB/s \n",
            "\u001b[?25hRequirement already satisfied: tensorflow-estimator==1.15.1 in /usr/local/lib/python3.7/dist-packages (from tensorflow-gpu==1.15.2) (1.15.1)\n",
            "Requirement already satisfied: tensorboard<1.16.0,>=1.15.0 in /usr/local/lib/python3.7/dist-packages (from tensorflow-gpu==1.15.2) (1.15.0)\n",
            "Requirement already satisfied: absl-py>=0.7.0 in /usr/local/lib/python3.7/dist-packages (from tensorflow-gpu==1.15.2) (0.12.0)\n",
            "Requirement already satisfied: gast==0.2.2 in /usr/local/lib/python3.7/dist-packages (from tensorflow-gpu==1.15.2) (0.2.2)\n",
            "Requirement already satisfied: wrapt>=1.11.1 in /usr/local/lib/python3.7/dist-packages (from tensorflow-gpu==1.15.2) (1.12.1)\n",
            "Requirement already satisfied: termcolor>=1.1.0 in /usr/local/lib/python3.7/dist-packages (from tensorflow-gpu==1.15.2) (1.1.0)\n",
            "Requirement already satisfied: wheel>=0.26 in /usr/local/lib/python3.7/dist-packages (from tensorflow-gpu==1.15.2) (0.37.0)\n",
            "Requirement already satisfied: numpy<2.0,>=1.16.0 in /usr/local/lib/python3.7/dist-packages (from tensorflow-gpu==1.15.2) (1.19.5)\n",
            "Requirement already satisfied: astor>=0.6.0 in /usr/local/lib/python3.7/dist-packages (from tensorflow-gpu==1.15.2) (0.8.1)\n",
            "Requirement already satisfied: protobuf>=3.6.1 in /usr/local/lib/python3.7/dist-packages (from tensorflow-gpu==1.15.2) (3.17.3)\n",
            "Requirement already satisfied: six>=1.10.0 in /usr/local/lib/python3.7/dist-packages (from tensorflow-gpu==1.15.2) (1.15.0)\n",
            "Requirement already satisfied: google-pasta>=0.1.6 in /usr/local/lib/python3.7/dist-packages (from tensorflow-gpu==1.15.2) (0.2.0)\n",
            "Requirement already satisfied: keras-preprocessing>=1.0.5 in /usr/local/lib/python3.7/dist-packages (from tensorflow-gpu==1.15.2) (1.1.2)\n",
            "Requirement already satisfied: opt-einsum>=2.3.2 in /usr/local/lib/python3.7/dist-packages (from tensorflow-gpu==1.15.2) (3.3.0)\n",
            "Requirement already satisfied: grpcio>=1.8.6 in /usr/local/lib/python3.7/dist-packages (from tensorflow-gpu==1.15.2) (1.40.0)\n",
            "Requirement already satisfied: keras-applications>=1.0.8 in /usr/local/lib/python3.7/dist-packages (from tensorflow-gpu==1.15.2) (1.0.8)\n",
            "Requirement already satisfied: scipy>=0.14 in /usr/local/lib/python3.7/dist-packages (from keras==2.2.3) (1.4.1)\n",
            "Requirement already satisfied: pyyaml in /usr/local/lib/python3.7/dist-packages (from keras==2.2.3) (3.13)\n",
            "Requirement already satisfied: h5py in /usr/local/lib/python3.7/dist-packages (from keras==2.2.3) (3.1.0)\n",
            "Requirement already satisfied: setuptools>=41.0.0 in /usr/local/lib/python3.7/dist-packages (from tensorboard<1.16.0,>=1.15.0->tensorflow-gpu==1.15.2) (57.4.0)\n",
            "Requirement already satisfied: markdown>=2.6.8 in /usr/local/lib/python3.7/dist-packages (from tensorboard<1.16.0,>=1.15.0->tensorflow-gpu==1.15.2) (3.3.4)\n",
            "Requirement already satisfied: werkzeug>=0.11.15 in /usr/local/lib/python3.7/dist-packages (from tensorboard<1.16.0,>=1.15.0->tensorflow-gpu==1.15.2) (1.0.1)\n",
            "Requirement already satisfied: importlib-metadata in /usr/local/lib/python3.7/dist-packages (from markdown>=2.6.8->tensorboard<1.16.0,>=1.15.0->tensorflow-gpu==1.15.2) (4.8.1)\n",
            "Requirement already satisfied: cached-property in /usr/local/lib/python3.7/dist-packages (from h5py->keras==2.2.3) (1.5.2)\n",
            "Requirement already satisfied: zipp>=0.5 in /usr/local/lib/python3.7/dist-packages (from importlib-metadata->markdown>=2.6.8->tensorboard<1.16.0,>=1.15.0->tensorflow-gpu==1.15.2) (3.5.0)\n",
            "Requirement already satisfied: typing-extensions>=3.6.4 in /usr/local/lib/python3.7/dist-packages (from importlib-metadata->markdown>=2.6.8->tensorboard<1.16.0,>=1.15.0->tensorflow-gpu==1.15.2) (3.7.4.3)\n",
            "Installing collected packages: keras\n",
            "  Attempting uninstall: keras\n",
            "    Found existing installation: keras 2.6.0\n",
            "    Uninstalling keras-2.6.0:\n",
            "      Successfully uninstalled keras-2.6.0\n",
            "\u001b[31mERROR: pip's dependency resolver does not currently take into account all the packages that are installed. This behaviour is the source of the following dependency conflicts.\n",
            "tensorflow 2.6.0 requires gast==0.4.0, but you have gast 0.2.2 which is incompatible.\n",
            "tensorflow 2.6.0 requires keras~=2.6, but you have keras 2.2.3 which is incompatible.\n",
            "tensorflow 2.6.0 requires tensorboard~=2.6, but you have tensorboard 1.15.0 which is incompatible.\n",
            "tensorflow 2.6.0 requires tensorflow-estimator~=2.6, but you have tensorflow-estimator 1.15.1 which is incompatible.\u001b[0m\n",
            "Successfully installed keras-2.2.3\n"
          ]
        },
        {
          "output_type": "display_data",
          "data": {
            "application/vnd.colab-display-data+json": {
              "pip_warning": {
                "packages": [
                  "keras"
                ]
              }
            }
          },
          "metadata": {}
        }
      ]
    },
    {
      "cell_type": "code",
      "metadata": {
        "pycharm": {
          "name": "#%%\n"
        },
        "id": "_f_oJKwobPhp",
        "colab": {
          "base_uri": "https://localhost:8080/"
        },
        "outputId": "58c1dcee-2e5c-4f62-9951-174b03da7be0"
      },
      "source": [
        "!pip install adversarial-robustness-toolbox==1.7.1\n",
        "\n",
        "# DeprecationWarning: The module art.classifiers will be removed in ART 1.8.0 and replaced with art.estimators.classification"
      ],
      "execution_count": null,
      "outputs": [
        {
          "output_type": "stream",
          "name": "stdout",
          "text": [
            "Requirement already satisfied: adversarial-robustness-toolbox==1.7.1 in /usr/local/lib/python3.7/dist-packages (1.7.1)\n",
            "Requirement already satisfied: tqdm in /usr/local/lib/python3.7/dist-packages (from adversarial-robustness-toolbox==1.7.1) (4.62.3)\n",
            "Requirement already satisfied: scipy>=1.4.1 in /usr/local/lib/python3.7/dist-packages (from adversarial-robustness-toolbox==1.7.1) (1.4.1)\n",
            "Requirement already satisfied: numpy>=1.18.0 in /usr/local/lib/python3.7/dist-packages (from adversarial-robustness-toolbox==1.7.1) (1.19.5)\n",
            "Requirement already satisfied: six in /usr/local/lib/python3.7/dist-packages (from adversarial-robustness-toolbox==1.7.1) (1.15.0)\n",
            "Requirement already satisfied: setuptools in /usr/local/lib/python3.7/dist-packages (from adversarial-robustness-toolbox==1.7.1) (57.4.0)\n",
            "Requirement already satisfied: scikit-learn<0.24.3,>=0.22.2 in /usr/local/lib/python3.7/dist-packages (from adversarial-robustness-toolbox==1.7.1) (0.22.2.post1)\n",
            "Requirement already satisfied: numba~=0.53.1 in /usr/local/lib/python3.7/dist-packages (from adversarial-robustness-toolbox==1.7.1) (0.53.1)\n",
            "Requirement already satisfied: llvmlite<0.37,>=0.36.0rc1 in /usr/local/lib/python3.7/dist-packages (from numba~=0.53.1->adversarial-robustness-toolbox==1.7.1) (0.36.0)\n",
            "Requirement already satisfied: joblib>=0.11 in /usr/local/lib/python3.7/dist-packages (from scikit-learn<0.24.3,>=0.22.2->adversarial-robustness-toolbox==1.7.1) (1.0.1)\n"
          ]
        }
      ]
    },
    {
      "cell_type": "code",
      "metadata": {
        "ExecuteTime": {
          "end_time": "2021-09-20T21:30:14.009171Z",
          "start_time": "2021-09-20T21:30:12.996585Z"
        },
        "id": "SFCdbXWxp9AU",
        "colab": {
          "base_uri": "https://localhost:8080/"
        },
        "outputId": "d44bc25b-53e1-4972-a864-5193e65e2dd3"
      },
      "source": [
        "# most of our imports\n",
        "import warnings\n",
        "import numpy as np\n",
        "import os\n",
        "import keras\n",
        "from keras.layers import Conv2D, MaxPooling2D, Dropout, Flatten, Dense\n",
        "%matplotlib inline\n",
        "import matplotlib.pyplot as plt\n",
        "import tensorflow as tf\n",
        "from art.classifiers import KerasClassifier\n",
        "\n",
        "\n",
        "# helper code \n",
        "def extract_ones_and_zeroes( data, labels ):\n",
        "    data_zeroes = data[ np.argwhere( labels == 0 ).reshape( -1 ) ][ :200 ]\n",
        "    data_ones = data[ np.argwhere( labels == 1 ).reshape( -1 ) ][ :200 ]\n",
        "    x = np.vstack( (data_zeroes, data_ones) )\n",
        "\n",
        "    x = x / 255.\n",
        "    print( x.shape )\n",
        "\n",
        "    labels_zeroes = np.zeros( data_zeroes.shape[ 0 ] )\n",
        "    labels_ones = np.ones( data_ones.shape[ 0 ] )\n",
        "    y = np.append( labels_zeroes, labels_ones )\n",
        "\n",
        "    return x, y\n",
        "\n",
        "def extract_two_classes( data, labels, classes=(0,1), no_instance=200 ):\n",
        "    data_zeroes = data[ np.argwhere( labels ==  classes[0] ).reshape( -1 ) ][ :no_instance ]\n",
        "    data_ones = data[ np.argwhere( labels == classes[1] ).reshape( -1 ) ][ :no_instance ]\n",
        "    x = np.vstack( (data_zeroes, data_ones) )\n",
        "    \n",
        "    # normalize the data\n",
        "    x = x / 255.\n",
        "\n",
        "    labels_zeroes = np.zeros( data_zeroes.shape[ 0 ] )\n",
        "    labels_ones = np.ones( data_ones.shape[ 0 ] )\n",
        "    y = np.append( labels_zeroes, labels_ones )\n",
        "\n",
        "    return x, y\n",
        "\n",
        "def convert_to_keras_image_format( x_train, x_test ):\n",
        "    if keras.backend.image_data_format( ) == 'channels_first':\n",
        "        x_train = x_train.reshape( x_train.shape[ 0 ], 1, x_train.shape[ 1 ], x_train.shape[ 2 ] )\n",
        "        x_test = x_test.reshape( x_test.shape[ 0 ], 1, x_train.shape[ 1 ], x_train.shape[ 2 ] )\n",
        "    else:\n",
        "        x_train = x_train.reshape( x_train.shape[ 0 ], x_train.shape[ 1 ], x_train.shape[ 2 ], 1 )\n",
        "        x_test = x_test.reshape( x_test.shape[ 0 ], x_train.shape[ 1 ], x_train.shape[ 2 ], 1 )\n",
        "\n",
        "    return x_train, x_test\n",
        "\n",
        "\n",
        "def mnist_cnn_model( x_train, y_train, x_test, y_test, epochs=2 ):\n",
        "    # define the classifier\n",
        "    clf = keras.Sequential( )\n",
        "    clf.add( Conv2D( 32, kernel_size=(3, 3), activation='relu', input_shape=x_train.shape[ 1: ] ) )\n",
        "    clf.add( Conv2D( 64, (3, 3), activation='relu' ) )\n",
        "    clf.add( MaxPooling2D( pool_size=(2, 2) ) )\n",
        "    clf.add( Dropout( 0.25 ) )\n",
        "    clf.add( Flatten( ) )\n",
        "    clf.add( Dense( 128, activation='relu' ) )\n",
        "    clf.add( Dropout( 0.5 ) )\n",
        "    clf.add( Dense( y_train.shape[ 1 ], activation='softmax' ) )\n",
        "\n",
        "    clf.compile( loss=keras.losses.categorical_crossentropy,\n",
        "                 optimizer='adam',\n",
        "                 metrics=[ 'accuracy' ] )\n",
        "\n",
        "    clf.fit( x_train, y_train,\n",
        "             epochs=epochs,\n",
        "             verbose=1 )\n",
        "    clf.summary( )\n",
        "    score = clf.evaluate( x_test, y_test )\n",
        "    print( 'Test loss:', score[ 0 ] )\n",
        "    print( 'Test accuracy:', score[ 1 ] )\n",
        "\n",
        "    return clf\n",
        "\n",
        "\n",
        "def show_image( img ):\n",
        "    plt.imshow( img.reshape( 28, 28 ), cmap=\"gray_r\" )\n",
        "    plt.axis( 'off' )\n",
        "    plt.show( )"
      ],
      "execution_count": null,
      "outputs": [
        {
          "output_type": "stream",
          "name": "stderr",
          "text": [
            "Using TensorFlow backend.\n",
            "/usr/local/lib/python3.7/dist-packages/ipykernel_launcher.py:10: DeprecationWarning: The module art.classifiers will be removed in ART 1.8.0 and replaced with art.estimators.classification\n",
            "  # Remove the CWD from sys.path while we load stuff.\n"
          ]
        }
      ]
    },
    {
      "cell_type": "markdown",
      "metadata": {
        "id": "CQb51r9Pp9AY"
      },
      "source": [
        "We start out by loading the data, preparing it and training our CNN."
      ]
    },
    {
      "cell_type": "code",
      "metadata": {
        "ExecuteTime": {
          "end_time": "2021-09-20T21:30:17.234902Z",
          "start_time": "2021-09-20T21:30:14.010677Z"
        },
        "id": "Mi_KR9mVp9AZ",
        "scrolled": true,
        "colab": {
          "base_uri": "https://localhost:8080/"
        },
        "outputId": "b60d67ee-9aa0-4f9b-b272-c3c57fecc84f"
      },
      "source": [
        "from tensorflow.keras.utils import to_categorical\n",
        "from keras.datasets import mnist\n",
        "(x_train, y_train), (x_test, y_test) = mnist.load_data()\n",
        "\n",
        "# extract ones and zeroes\n",
        "x_train, y_train = extract_ones_and_zeroes( x_train, y_train )\n",
        "x_test, y_test = extract_ones_and_zeroes( x_test, y_test )\n",
        "\n",
        "# we need to bring the data in to a format that our cnn likes\n",
        "y_train = keras.utils.to_categorical( y_train, 2 )\n",
        "y_test = keras.utils.to_categorical( y_test, 2 )\n",
        "\n",
        "# convert it to a format keras can work with\n",
        "x_train, x_test = convert_to_keras_image_format(x_train, x_test)\n",
        "\n",
        "# need to some setup so everything gets executed in the same tensorflow session\n",
        "session = tf.Session( )\n",
        "keras.backend.set_session( session )\n",
        "\n",
        "# get and train our cnn\n",
        "clf = mnist_cnn_model( x_train, y_train, x_test, y_test, epochs=5)\n"
      ],
      "execution_count": null,
      "outputs": [
        {
          "output_type": "stream",
          "name": "stdout",
          "text": [
            "(400, 28, 28)\n",
            "(400, 28, 28)\n",
            "WARNING:tensorflow:From /usr/local/lib/python3.7/dist-packages/keras/backend/tensorflow_backend.py:74: The name tf.get_default_graph is deprecated. Please use tf.compat.v1.get_default_graph instead.\n",
            "\n",
            "WARNING:tensorflow:From /usr/local/lib/python3.7/dist-packages/keras/backend/tensorflow_backend.py:517: The name tf.placeholder is deprecated. Please use tf.compat.v1.placeholder instead.\n",
            "\n",
            "WARNING:tensorflow:From /usr/local/lib/python3.7/dist-packages/keras/backend/tensorflow_backend.py:4138: The name tf.random_uniform is deprecated. Please use tf.random.uniform instead.\n",
            "\n",
            "WARNING:tensorflow:From /usr/local/lib/python3.7/dist-packages/keras/backend/tensorflow_backend.py:3976: The name tf.nn.max_pool is deprecated. Please use tf.nn.max_pool2d instead.\n",
            "\n",
            "WARNING:tensorflow:From /usr/local/lib/python3.7/dist-packages/keras/backend/tensorflow_backend.py:133: The name tf.placeholder_with_default is deprecated. Please use tf.compat.v1.placeholder_with_default instead.\n",
            "\n",
            "WARNING:tensorflow:From /usr/local/lib/python3.7/dist-packages/keras/backend/tensorflow_backend.py:3445: calling dropout (from tensorflow.python.ops.nn_ops) with keep_prob is deprecated and will be removed in a future version.\n",
            "Instructions for updating:\n",
            "Please use `rate` instead of `keep_prob`. Rate should be set to `rate = 1 - keep_prob`.\n",
            "WARNING:tensorflow:From /usr/local/lib/python3.7/dist-packages/keras/optimizers.py:790: The name tf.train.Optimizer is deprecated. Please use tf.compat.v1.train.Optimizer instead.\n",
            "\n",
            "WARNING:tensorflow:From /usr/local/lib/python3.7/dist-packages/keras/backend/tensorflow_backend.py:3295: The name tf.log is deprecated. Please use tf.math.log instead.\n",
            "\n"
          ]
        },
        {
          "output_type": "stream",
          "name": "stderr",
          "text": [
            "/usr/local/lib/python3.7/dist-packages/tensorflow_core/python/framework/tensor_util.py:521: DeprecationWarning: tostring() is deprecated. Use tobytes() instead.\n",
            "  tensor_proto.tensor_content = nparray.tostring()\n",
            "/usr/local/lib/python3.7/dist-packages/tensorflow_core/python/framework/indexed_slices.py:339: DeprecationWarning: Using or importing the ABCs from 'collections' instead of from 'collections.abc' is deprecated since Python 3.3,and in 3.9 it will stop working\n",
            "  if not isinstance(values, collections.Sequence):\n"
          ]
        },
        {
          "output_type": "stream",
          "name": "stdout",
          "text": [
            "WARNING:tensorflow:From /usr/local/lib/python3.7/dist-packages/tensorflow_core/python/ops/math_grad.py:1424: where (from tensorflow.python.ops.array_ops) is deprecated and will be removed in a future version.\n",
            "Instructions for updating:\n",
            "Use tf.where in 2.0, which has the same broadcast rule as np.where\n",
            "WARNING:tensorflow:From /usr/local/lib/python3.7/dist-packages/keras/backend/tensorflow_backend.py:986: The name tf.assign_add is deprecated. Please use tf.compat.v1.assign_add instead.\n",
            "\n",
            "WARNING:tensorflow:From /usr/local/lib/python3.7/dist-packages/keras/backend/tensorflow_backend.py:973: The name tf.assign is deprecated. Please use tf.compat.v1.assign instead.\n",
            "\n"
          ]
        },
        {
          "output_type": "stream",
          "name": "stderr",
          "text": [
            "/usr/local/lib/python3.7/dist-packages/tensorflow_core/python/framework/tensor_util.py:521: DeprecationWarning: tostring() is deprecated. Use tobytes() instead.\n",
            "  tensor_proto.tensor_content = nparray.tostring()\n"
          ]
        },
        {
          "output_type": "stream",
          "name": "stdout",
          "text": [
            "Epoch 1/5\n",
            "WARNING:tensorflow:From /usr/local/lib/python3.7/dist-packages/keras/backend/tensorflow_backend.py:174: The name tf.get_default_session is deprecated. Please use tf.compat.v1.get_default_session instead.\n",
            "\n",
            "WARNING:tensorflow:From /usr/local/lib/python3.7/dist-packages/keras/backend/tensorflow_backend.py:190: The name tf.global_variables is deprecated. Please use tf.compat.v1.global_variables instead.\n",
            "\n",
            "WARNING:tensorflow:From /usr/local/lib/python3.7/dist-packages/keras/backend/tensorflow_backend.py:199: The name tf.is_variable_initialized is deprecated. Please use tf.compat.v1.is_variable_initialized instead.\n",
            "\n",
            "WARNING:tensorflow:From /usr/local/lib/python3.7/dist-packages/keras/backend/tensorflow_backend.py:206: The name tf.variables_initializer is deprecated. Please use tf.compat.v1.variables_initializer instead.\n",
            "\n",
            "400/400 [==============================] - 2s 4ms/step - loss: 0.1800 - acc: 0.9025\n",
            "Epoch 2/5\n",
            "400/400 [==============================] - 1s 3ms/step - loss: 0.0402 - acc: 0.9900\n",
            "Epoch 3/5\n",
            "400/400 [==============================] - 1s 3ms/step - loss: 0.0317 - acc: 0.9925\n",
            "Epoch 4/5\n",
            "400/400 [==============================] - 1s 3ms/step - loss: 0.0168 - acc: 0.9950\n",
            "Epoch 5/5\n",
            "400/400 [==============================] - 1s 3ms/step - loss: 0.0121 - acc: 0.9975\n",
            "_________________________________________________________________\n",
            "Layer (type)                 Output Shape              Param #   \n",
            "=================================================================\n",
            "conv2d_1 (Conv2D)            (None, 26, 26, 32)        320       \n",
            "_________________________________________________________________\n",
            "conv2d_2 (Conv2D)            (None, 24, 24, 64)        18496     \n",
            "_________________________________________________________________\n",
            "max_pooling2d_1 (MaxPooling2 (None, 12, 12, 64)        0         \n",
            "_________________________________________________________________\n",
            "dropout_1 (Dropout)          (None, 12, 12, 64)        0         \n",
            "_________________________________________________________________\n",
            "flatten_1 (Flatten)          (None, 9216)              0         \n",
            "_________________________________________________________________\n",
            "dense_1 (Dense)              (None, 128)               1179776   \n",
            "_________________________________________________________________\n",
            "dropout_2 (Dropout)          (None, 128)               0         \n",
            "_________________________________________________________________\n",
            "dense_2 (Dense)              (None, 2)                 258       \n",
            "=================================================================\n",
            "Total params: 1,198,850\n",
            "Trainable params: 1,198,850\n",
            "Non-trainable params: 0\n",
            "_________________________________________________________________\n",
            "400/400 [==============================] - 0s 911us/step\n",
            "Test loss: 0.000962874187844136\n",
            "Test accuracy: 1.0\n"
          ]
        }
      ]
    },
    {
      "cell_type": "markdown",
      "metadata": {
        "id": "No-xgwJAp9Ae"
      },
      "source": [
        "We want to know how robust our model is against an attack. To do this we are calculating the `empirical robustness`. This is equivalent to computing the minimal perturbation that the attacker must introduce for a    successful attack. We are following the approach of Moosavi-Dezfooli et al. 2016 (paper link: https://arxiv.org/abs/1511.04599), Eq.2.\n",
        "\n",
        "The empirical robustness method supports two attacks at the moment.\n",
        "The `Fast Gradient Sign Method` and `Hop Skip and Jump`.\n",
        "\n",
        "You can use them by passing either `fgsm` or `hsj` as parameters.\n",
        "The default attack parameters are the following:\n",
        "```\n",
        "    \"fgsm\", {\"eps_step\": 0.1, \"eps_max\": 1., \"clip_min\": 0., \"clip_max\": 1.},\n",
        "    \"hsj\", {'max_iter': 50, 'max_eval': 10000, 'init_eval': 100, 'init_size': 100}\n",
        "```"
      ]
    },
    {
      "cell_type": "code",
      "metadata": {
        "ExecuteTime": {
          "end_time": "2021-09-20T21:30:17.864318Z",
          "start_time": "2021-09-20T21:30:17.237748Z"
        },
        "id": "SGO_xXwHp9Af",
        "colab": {
          "base_uri": "https://localhost:8080/"
        },
        "outputId": "e5aac742-14bb-4f05-96de-a2170d5aaf3a"
      },
      "source": [
        "from art.metrics import empirical_robustness\n",
        "\n",
        "# wrap the model an calculate empirical robustness\n",
        "wrapper = KerasClassifier( model=clf, clip_values=(0., 1.) )\n",
        "print( 'robustness of the undefended model', \n",
        "      empirical_robustness( wrapper, x_test, 'fgsm'))"
      ],
      "execution_count": null,
      "outputs": [
        {
          "output_type": "stream",
          "name": "stdout",
          "text": [
            "robustness of the undefended model 0.20006561977911033\n"
          ]
        }
      ]
    },
    {
      "cell_type": "markdown",
      "metadata": {
        "id": "jHoKCGrJWtIy"
      },
      "source": [
        "Try different attack parameters and compare the results. \n",
        "\n",
        "Tip:\n",
        "\n",
        "For `hsj` use only a few examples otherwise it will take forever."
      ]
    },
    {
      "cell_type": "code",
      "metadata": {
        "ExecuteTime": {
          "end_time": "2021-09-20T21:44:56.570061Z",
          "start_time": "2021-09-20T21:44:56.468598Z"
        },
        "id": "GqNgpmoIWNTV",
        "colab": {
          "base_uri": "https://localhost:8080/",
          "height": 494,
          "referenced_widgets": [
            "cea5351e493c4ae28c02334d4e5a849d",
            "607413f5eadf4be08d02b93144fafd8a",
            "ec870a8663034b8882345ec74c1b38d9",
            "aa05de21c30547e086ae8a80ef4d06a4",
            "ad8ef68454af4c38b6f216d47215009d",
            "42daf272c33c40a4b034362e3c19c3ee",
            "8051fb04d11141ec9b7066dde5025cd7",
            "8cca5efb98c940ed9810dae05b1d61e1",
            "042347b195d040e69da7416c94f64801",
            "8dbae31a88cf4644bbd667e2f80b70c8",
            "b891c0d9a3e94aa0b0b1b5fd121fbb05"
          ]
        },
        "outputId": "2d8507e1-06e5-42b6-c422-c07ea3102720"
      },
      "source": [
        "### your code goes here\n",
        "x_small = x_test[ :10 ]\n",
        "wrapper = KerasClassifier( model=clf, clip_values=(0., 1.) )\n",
        "print( 'robustness of the undefended model', \n",
        "      empirical_robustness( wrapper, x_test, 'fgsm'))#, (\"eps_step\":0.1, \"eps_max\":1., \"clip_min\":0.,\"clip_max\":1.,)))\n",
        "\n",
        "print( 'robustness of the undefended model ', empirical_robustness( wrapper, x_test, 'fgsm', {\"eps_step\": 0.5, \"eps_max\":1., \"clip_min\":0.,\"clip_max\":1.,}))\n",
        "\n",
        "print( 'robustness of the undefended model under hsj', empirical_robustness( wrapper, x_test, 'hsj', {\"max_iter\": 50, \"max_eval\":10000, \"init_eval\":100,\"init_size\":100}))"
      ],
      "execution_count": null,
      "outputs": [
        {
          "output_type": "stream",
          "name": "stdout",
          "text": [
            "robustness of the undefended model 0.2000828873577624\n",
            "robustness of the undefended model  0.0\n"
          ]
        },
        {
          "output_type": "display_data",
          "data": {
            "application/vnd.jupyter.widget-view+json": {
              "model_id": "cea5351e493c4ae28c02334d4e5a849d",
              "version_minor": 0,
              "version_major": 2
            },
            "text/plain": [
              "HopSkipJump:   0%|          | 0/400 [00:00<?, ?it/s]"
            ]
          },
          "metadata": {}
        },
        {
          "output_type": "stream",
          "name": "stderr",
          "text": [
            "/usr/local/lib/python3.7/dist-packages/yaml/constructor.py:126: DeprecationWarning: Using or importing the ABCs from 'collections' instead of from 'collections.abc' is deprecated since Python 3.3,and in 3.9 it will stop working\n",
            "  if not isinstance(key, collections.Hashable):\n",
            "/usr/local/lib/python3.7/dist-packages/tensorflow_core/contrib/learn/python/learn/learn_io/generator_io.py:26: DeprecationWarning: Using or importing the ABCs from 'collections' instead of from 'collections.abc' is deprecated since Python 3.3,and in 3.9 it will stop working\n",
            "  from collections import Container\n"
          ]
        },
        {
          "output_type": "error",
          "ename": "KeyboardInterrupt",
          "evalue": "ignored",
          "traceback": [
            "\u001b[0;31m---------------------------------------------------------------------------\u001b[0m",
            "\u001b[0;31mKeyboardInterrupt\u001b[0m                         Traceback (most recent call last)",
            "\u001b[0;32m<ipython-input-14-1aaff9e6aa22>\u001b[0m in \u001b[0;36m<module>\u001b[0;34m()\u001b[0m\n\u001b[1;32m      7\u001b[0m \u001b[0mprint\u001b[0m\u001b[0;34m(\u001b[0m \u001b[0;34m'robustness of the undefended model '\u001b[0m\u001b[0;34m,\u001b[0m \u001b[0mempirical_robustness\u001b[0m\u001b[0;34m(\u001b[0m \u001b[0mwrapper\u001b[0m\u001b[0;34m,\u001b[0m \u001b[0mx_test\u001b[0m\u001b[0;34m,\u001b[0m \u001b[0;34m'fgsm'\u001b[0m\u001b[0;34m,\u001b[0m \u001b[0;34m{\u001b[0m\u001b[0;34m\"eps_step\"\u001b[0m\u001b[0;34m:\u001b[0m \u001b[0;36m0.5\u001b[0m\u001b[0;34m,\u001b[0m \u001b[0;34m\"eps_max\"\u001b[0m\u001b[0;34m:\u001b[0m\u001b[0;36m1.\u001b[0m\u001b[0;34m,\u001b[0m \u001b[0;34m\"clip_min\"\u001b[0m\u001b[0;34m:\u001b[0m\u001b[0;36m0.\u001b[0m\u001b[0;34m,\u001b[0m\u001b[0;34m\"clip_max\"\u001b[0m\u001b[0;34m:\u001b[0m\u001b[0;36m1.\u001b[0m\u001b[0;34m,\u001b[0m\u001b[0;34m}\u001b[0m\u001b[0;34m)\u001b[0m\u001b[0;34m)\u001b[0m\u001b[0;34m\u001b[0m\u001b[0;34m\u001b[0m\u001b[0m\n\u001b[1;32m      8\u001b[0m \u001b[0;34m\u001b[0m\u001b[0m\n\u001b[0;32m----> 9\u001b[0;31m \u001b[0mprint\u001b[0m\u001b[0;34m(\u001b[0m \u001b[0;34m'robustness of the undefended model under hsj'\u001b[0m\u001b[0;34m,\u001b[0m \u001b[0mempirical_robustness\u001b[0m\u001b[0;34m(\u001b[0m \u001b[0mwrapper\u001b[0m\u001b[0;34m,\u001b[0m \u001b[0mx_test\u001b[0m\u001b[0;34m,\u001b[0m \u001b[0;34m'hsj'\u001b[0m\u001b[0;34m,\u001b[0m \u001b[0;34m{\u001b[0m\u001b[0;34m\"max_iter\"\u001b[0m\u001b[0;34m:\u001b[0m \u001b[0;36m50\u001b[0m\u001b[0;34m,\u001b[0m \u001b[0;34m\"max_eval\"\u001b[0m\u001b[0;34m:\u001b[0m\u001b[0;36m10000\u001b[0m\u001b[0;34m,\u001b[0m \u001b[0;34m\"init_eval\"\u001b[0m\u001b[0;34m:\u001b[0m\u001b[0;36m100\u001b[0m\u001b[0;34m,\u001b[0m\u001b[0;34m\"init_size\"\u001b[0m\u001b[0;34m:\u001b[0m\u001b[0;36m100\u001b[0m\u001b[0;34m}\u001b[0m\u001b[0;34m)\u001b[0m\u001b[0;34m)\u001b[0m\u001b[0;34m\u001b[0m\u001b[0;34m\u001b[0m\u001b[0m\n\u001b[0m",
            "\u001b[0;32m/usr/local/lib/python3.7/dist-packages/art/metrics/metrics.py\u001b[0m in \u001b[0;36mempirical_robustness\u001b[0;34m(classifier, x, attack_name, attack_params)\u001b[0m\n\u001b[1;32m    104\u001b[0m     \u001b[0mcrafter\u001b[0m \u001b[0;34m=\u001b[0m \u001b[0mget_crafter\u001b[0m\u001b[0;34m(\u001b[0m\u001b[0mclassifier\u001b[0m\u001b[0;34m,\u001b[0m \u001b[0mattack_name\u001b[0m\u001b[0;34m,\u001b[0m \u001b[0mattack_params\u001b[0m\u001b[0;34m)\u001b[0m\u001b[0;34m\u001b[0m\u001b[0;34m\u001b[0m\u001b[0m\n\u001b[1;32m    105\u001b[0m     \u001b[0mcrafter\u001b[0m\u001b[0;34m.\u001b[0m\u001b[0mset_params\u001b[0m\u001b[0;34m(\u001b[0m\u001b[0;34m**\u001b[0m\u001b[0;34m{\u001b[0m\u001b[0;34m\"minimal\"\u001b[0m\u001b[0;34m:\u001b[0m \u001b[0;32mTrue\u001b[0m\u001b[0;34m}\u001b[0m\u001b[0;34m)\u001b[0m\u001b[0;34m\u001b[0m\u001b[0;34m\u001b[0m\u001b[0m\n\u001b[0;32m--> 106\u001b[0;31m     \u001b[0madv_x\u001b[0m \u001b[0;34m=\u001b[0m \u001b[0mcrafter\u001b[0m\u001b[0;34m.\u001b[0m\u001b[0mgenerate\u001b[0m\u001b[0;34m(\u001b[0m\u001b[0mx\u001b[0m\u001b[0;34m)\u001b[0m\u001b[0;34m\u001b[0m\u001b[0;34m\u001b[0m\u001b[0m\n\u001b[0m\u001b[1;32m    107\u001b[0m \u001b[0;34m\u001b[0m\u001b[0m\n\u001b[1;32m    108\u001b[0m     \u001b[0;31m# Predict the labels for adversarial examples\u001b[0m\u001b[0;34m\u001b[0m\u001b[0;34m\u001b[0m\u001b[0;34m\u001b[0m\u001b[0m\n",
            "\u001b[0;32m/usr/local/lib/python3.7/dist-packages/art/attacks/attack.py\u001b[0m in \u001b[0;36mreplacement_function\u001b[0;34m(self, *args, **kwargs)\u001b[0m\n\u001b[1;32m     73\u001b[0m                 \u001b[0;32mif\u001b[0m \u001b[0mlen\u001b[0m\u001b[0;34m(\u001b[0m\u001b[0margs\u001b[0m\u001b[0;34m)\u001b[0m \u001b[0;34m>\u001b[0m \u001b[0;36m0\u001b[0m\u001b[0;34m:\u001b[0m\u001b[0;34m\u001b[0m\u001b[0;34m\u001b[0m\u001b[0m\n\u001b[1;32m     74\u001b[0m                     \u001b[0margs\u001b[0m \u001b[0;34m=\u001b[0m \u001b[0mtuple\u001b[0m\u001b[0;34m(\u001b[0m\u001b[0mlst\u001b[0m\u001b[0;34m)\u001b[0m\u001b[0;34m\u001b[0m\u001b[0;34m\u001b[0m\u001b[0m\n\u001b[0;32m---> 75\u001b[0;31m                 \u001b[0;32mreturn\u001b[0m \u001b[0mfdict\u001b[0m\u001b[0;34m[\u001b[0m\u001b[0mfunc_name\u001b[0m\u001b[0;34m]\u001b[0m\u001b[0;34m(\u001b[0m\u001b[0mself\u001b[0m\u001b[0;34m,\u001b[0m \u001b[0;34m*\u001b[0m\u001b[0margs\u001b[0m\u001b[0;34m,\u001b[0m \u001b[0;34m**\u001b[0m\u001b[0mkwargs\u001b[0m\u001b[0;34m)\u001b[0m\u001b[0;34m\u001b[0m\u001b[0;34m\u001b[0m\u001b[0m\n\u001b[0m\u001b[1;32m     76\u001b[0m \u001b[0;34m\u001b[0m\u001b[0m\n\u001b[1;32m     77\u001b[0m             \u001b[0mreplacement_function\u001b[0m\u001b[0;34m.\u001b[0m\u001b[0m__doc__\u001b[0m \u001b[0;34m=\u001b[0m \u001b[0mfdict\u001b[0m\u001b[0;34m[\u001b[0m\u001b[0mfunc_name\u001b[0m\u001b[0;34m]\u001b[0m\u001b[0;34m.\u001b[0m\u001b[0m__doc__\u001b[0m\u001b[0;34m\u001b[0m\u001b[0;34m\u001b[0m\u001b[0m\n",
            "\u001b[0;32m/usr/local/lib/python3.7/dist-packages/art/attacks/evasion/hop_skip_jump.py\u001b[0m in \u001b[0;36mgenerate\u001b[0;34m(self, x, y, **kwargs)\u001b[0m\n\u001b[1;32m    210\u001b[0m                     \u001b[0mmask\u001b[0m\u001b[0;34m=\u001b[0m\u001b[0mmask\u001b[0m\u001b[0;34m[\u001b[0m\u001b[0mind\u001b[0m\u001b[0;34m]\u001b[0m\u001b[0;34m,\u001b[0m\u001b[0;34m\u001b[0m\u001b[0;34m\u001b[0m\u001b[0m\n\u001b[1;32m    211\u001b[0m                     \u001b[0mclip_min\u001b[0m\u001b[0;34m=\u001b[0m\u001b[0mclip_min\u001b[0m\u001b[0;34m,\u001b[0m\u001b[0;34m\u001b[0m\u001b[0;34m\u001b[0m\u001b[0m\n\u001b[0;32m--> 212\u001b[0;31m                     \u001b[0mclip_max\u001b[0m\u001b[0;34m=\u001b[0m\u001b[0mclip_max\u001b[0m\u001b[0;34m,\u001b[0m\u001b[0;34m\u001b[0m\u001b[0;34m\u001b[0m\u001b[0m\n\u001b[0m\u001b[1;32m    213\u001b[0m                 )\n\u001b[1;32m    214\u001b[0m \u001b[0;34m\u001b[0m\u001b[0m\n",
            "\u001b[0;32m/usr/local/lib/python3.7/dist-packages/art/attacks/evasion/hop_skip_jump.py\u001b[0m in \u001b[0;36m_perturb\u001b[0;34m(self, x, y, y_p, init_pred, adv_init, mask, clip_min, clip_max)\u001b[0m\n\u001b[1;32m    257\u001b[0m \u001b[0;34m\u001b[0m\u001b[0m\n\u001b[1;32m    258\u001b[0m         \u001b[0;31m# If an initial adversarial example found, then go with HopSkipJump attack\u001b[0m\u001b[0;34m\u001b[0m\u001b[0;34m\u001b[0m\u001b[0;34m\u001b[0m\u001b[0m\n\u001b[0;32m--> 259\u001b[0;31m         \u001b[0mx_adv\u001b[0m \u001b[0;34m=\u001b[0m \u001b[0mself\u001b[0m\u001b[0;34m.\u001b[0m\u001b[0m_attack\u001b[0m\u001b[0;34m(\u001b[0m\u001b[0minitial_sample\u001b[0m\u001b[0;34m[\u001b[0m\u001b[0;36m0\u001b[0m\u001b[0;34m]\u001b[0m\u001b[0;34m,\u001b[0m \u001b[0mx\u001b[0m\u001b[0;34m,\u001b[0m \u001b[0minitial_sample\u001b[0m\u001b[0;34m[\u001b[0m\u001b[0;36m1\u001b[0m\u001b[0;34m]\u001b[0m\u001b[0;34m,\u001b[0m \u001b[0mmask\u001b[0m\u001b[0;34m,\u001b[0m \u001b[0mclip_min\u001b[0m\u001b[0;34m,\u001b[0m \u001b[0mclip_max\u001b[0m\u001b[0;34m)\u001b[0m\u001b[0;34m\u001b[0m\u001b[0;34m\u001b[0m\u001b[0m\n\u001b[0m\u001b[1;32m    260\u001b[0m \u001b[0;34m\u001b[0m\u001b[0m\n\u001b[1;32m    261\u001b[0m         \u001b[0;32mreturn\u001b[0m \u001b[0mx_adv\u001b[0m\u001b[0;34m\u001b[0m\u001b[0;34m\u001b[0m\u001b[0m\n",
            "\u001b[0;32m/usr/local/lib/python3.7/dist-packages/art/attacks/evasion/hop_skip_jump.py\u001b[0m in \u001b[0;36m_attack\u001b[0;34m(self, initial_sample, original_sample, target, mask, clip_min, clip_max)\u001b[0m\n\u001b[1;32m    421\u001b[0m                 \u001b[0mmask\u001b[0m\u001b[0;34m=\u001b[0m\u001b[0mmask\u001b[0m\u001b[0;34m,\u001b[0m\u001b[0;34m\u001b[0m\u001b[0;34m\u001b[0m\u001b[0m\n\u001b[1;32m    422\u001b[0m                 \u001b[0mclip_min\u001b[0m\u001b[0;34m=\u001b[0m\u001b[0mclip_min\u001b[0m\u001b[0;34m,\u001b[0m\u001b[0;34m\u001b[0m\u001b[0;34m\u001b[0m\u001b[0m\n\u001b[0;32m--> 423\u001b[0;31m                 \u001b[0mclip_max\u001b[0m\u001b[0;34m=\u001b[0m\u001b[0mclip_max\u001b[0m\u001b[0;34m,\u001b[0m\u001b[0;34m\u001b[0m\u001b[0;34m\u001b[0m\u001b[0m\n\u001b[0m\u001b[1;32m    424\u001b[0m             )\n\u001b[1;32m    425\u001b[0m \u001b[0;34m\u001b[0m\u001b[0m\n",
            "\u001b[0;32m/usr/local/lib/python3.7/dist-packages/art/attacks/evasion/hop_skip_jump.py\u001b[0m in \u001b[0;36m_compute_update\u001b[0;34m(self, current_sample, num_eval, delta, target, mask, clip_min, clip_max)\u001b[0m\n\u001b[1;32m    598\u001b[0m         )\n\u001b[1;32m    599\u001b[0m         \u001b[0meval_samples\u001b[0m \u001b[0;34m=\u001b[0m \u001b[0mnp\u001b[0m\u001b[0;34m.\u001b[0m\u001b[0mclip\u001b[0m\u001b[0;34m(\u001b[0m\u001b[0mcurrent_sample\u001b[0m \u001b[0;34m+\u001b[0m \u001b[0mdelta\u001b[0m \u001b[0;34m*\u001b[0m \u001b[0mrnd_noise\u001b[0m\u001b[0;34m,\u001b[0m \u001b[0mclip_min\u001b[0m\u001b[0;34m,\u001b[0m \u001b[0mclip_max\u001b[0m\u001b[0;34m)\u001b[0m\u001b[0;34m\u001b[0m\u001b[0;34m\u001b[0m\u001b[0m\n\u001b[0;32m--> 600\u001b[0;31m         \u001b[0mrnd_noise\u001b[0m \u001b[0;34m=\u001b[0m \u001b[0;34m(\u001b[0m\u001b[0meval_samples\u001b[0m \u001b[0;34m-\u001b[0m \u001b[0mcurrent_sample\u001b[0m\u001b[0;34m)\u001b[0m \u001b[0;34m/\u001b[0m \u001b[0mdelta\u001b[0m\u001b[0;34m\u001b[0m\u001b[0;34m\u001b[0m\u001b[0m\n\u001b[0m\u001b[1;32m    601\u001b[0m \u001b[0;34m\u001b[0m\u001b[0m\n\u001b[1;32m    602\u001b[0m         \u001b[0;31m# Compute gradient: This is a bit different from the original paper, instead we keep those that are\u001b[0m\u001b[0;34m\u001b[0m\u001b[0;34m\u001b[0m\u001b[0;34m\u001b[0m\u001b[0m\n",
            "\u001b[0;31mKeyboardInterrupt\u001b[0m: "
          ]
        }
      ]
    },
    {
      "cell_type": "markdown",
      "metadata": {
        "id": "ZfkJT6D_p9Ai"
      },
      "source": [
        "Let's create an adversarial example and see how it looks.\n",
        "We want to know how to the model performs on adversarial examples. Let's create adversarial examples out of the training set and see how the model does with it.\n",
        "\n",
        "Below you can the keyword arguments for the attack\n",
        "\n",
        "```\n",
        "norm=np.inf, eps=.3, eps_step=0.1, targeted=False, num_random_init=0, batch_size=1, minimal=False\n",
        "        \"\"\"\n",
        "        :param norm: The norm of the adversarial perturbation. Possible values: np.inf, 1 or 2.\n",
        "        :param eps: Attack step size (input variation)\n",
        "        :param eps_step: Step size of input variation for minimal perturbation computation\n",
        "        :param targeted: Indicates whether the attack is targeted (True) or untargeted (False)\n",
        "        :param num_random_init: Number of random initialisations within the epsilon ball. For random_init=0 starting at\n",
        "            the original input.\n",
        "        :param batch_size: Size of the batch on which adversarial samples are generated.\n",
        "        :param minimal: Indicates if computing the minimal perturbation (True). If True, also define `eps_step` for\n",
        "                        the step size and eps for the maximum perturbation.\n",
        "   \n",
        "```"
      ]
    },
    {
      "cell_type": "code",
      "metadata": {
        "ExecuteTime": {
          "end_time": "2021-09-20T21:30:19.583064Z",
          "start_time": "2021-09-20T21:30:19.282468Z"
        },
        "id": "-anGrCjjp9Aj",
        "colab": {
          "base_uri": "https://localhost:8080/",
          "height": 316
        },
        "outputId": "46e31fc1-61a3-4799-9fee-21a22385c827"
      },
      "source": [
        "# create an adversarial example with fgsm and plot it\n",
        "from art.attacks.evasion import FastGradientMethod\n",
        "fgsm = FastGradientMethod( wrapper, eps=0.4 )\n",
        "x_adv = fgsm.generate(x_test[128].reshape((1,28,28,1) ))\n",
        "print( 'class prediction for the adversarial sample:',\n",
        "       clf.predict( x_adv.reshape((1,28,28,1) ) ) )\n",
        "show_image( x_adv )\n",
        "\n",
        "# create adversarial examples for the all of the set\n",
        "\n",
        "x_test_adv = fgsm.generate( x_test )\n",
        "print( 'accuracy on adversarial examples:' )\n",
        "print( wrapper._model.evaluate( x_test_adv, y_test )[ 1 ] )\n"
      ],
      "execution_count": null,
      "outputs": [
        {
          "output_type": "stream",
          "name": "stdout",
          "text": [
            "class prediction for the adversarial sample: [[1.0000000e+00 3.0835608e-08]]\n"
          ]
        },
        {
          "output_type": "display_data",
          "data": {
            "image/png": "[encoded data removed]",
            "text/plain": [
              "<Figure size 432x288 with 1 Axes>"
            ]
          },
          "metadata": {
            "needs_background": "light"
          }
        },
        {
          "output_type": "stream",
          "name": "stdout",
          "text": [
            "accuracy on adversarial examples:\n",
            "400/400 [==============================] - 0s 806us/step\n",
            "0.495\n"
          ]
        }
      ]
    },
    {
      "cell_type": "markdown",
      "metadata": {
        "id": "rhEY7Iagp9Aw"
      },
      "source": [
        "## Adversarial Training\n",
        "\n",
        "Let's create a new untrained model with the same architecture that we have been using so far. \n",
        "\n",
        "We will train the model using adversarial training framework. The idea is very simple:\n",
        "\n",
        "1.   Train the model for 1 epoch\n",
        "2.   Create adversarial examples using FGSM \n",
        "3.   Enhance training data by mixing it with the adversarial examples. (Only mix in the adversarial examples created in this iteration)\n",
        "4.   Goto 1\n",
        "\n",
        "We will be using the FGSM attack from `art` this time.\n",
        "\n",
        "\n"
      ]
    },
    {
      "cell_type": "code",
      "metadata": {
        "ExecuteTime": {
          "end_time": "2021-09-20T21:30:22.768988Z",
          "start_time": "2021-09-20T21:30:19.584820Z"
        },
        "id": "KfHrX6WftGOo",
        "colab": {
          "base_uri": "https://localhost:8080/"
        },
        "outputId": "05c616bc-fe8e-4602-ce3f-84430e799674"
      },
      "source": [
        "# create a new untrained model and wrap it\n",
        "new_model = mnist_cnn_model( x_train, y_train, x_test, y_test, epochs=0 )\n",
        "defended_model = KerasClassifier(clip_values=(0,1), model=new_model )\n",
        "# define the attack we are using\n",
        "fgsm = FastGradientMethod( defended_model, eps=.4 )\n",
        "\n",
        "# parameters\n",
        "epochs = 5 # number of iterations that we will perform training for\n",
        "ratio = .5  # ratio of the test set that will get turned into adversarial examples\n",
        "            # each iteration\n",
        "\n",
        "\n",
        "# some helpers\n",
        "idx = np.arange( x_train.shape[ 0 ], dtype=np.int )\n",
        "\n",
        "# create varialbes to hold the training data.\n",
        "# for now it is just the normal training data. we'll mix in the \n",
        "# adversarial examples in later\n",
        "x_train_enhanced = x_train\n",
        "y_train_enhanced = y_train\n",
        "\n",
        "\n",
        "for i in range( epochs ):\n",
        "  # train model for one epoch\n",
        "  defended_model.fit(x_train_enhanced, y_train_enhanced, nb_epochs=1)\n",
        "  # shuffle   \n",
        "  np.random.shuffle(idx)\n",
        "\n",
        "  # pick the subset of the train data to turn into adversarial examples\n",
        "  x_train_ = x_train[idx[int(idx.shape[0] * ratio) :]]\n",
        "  y_train_ = y_train[idx[int(idx.shape[0] * ratio) :]]\n",
        "  \n",
        "  # create adversarial examples\n",
        "  #fgsm = FastGradientMethod( new_model, eps=0.4 )\n",
        "  x_adv = fgsm.generate(x_train_)\n",
        "\n",
        "  # add the adversarial examples to the training data\n",
        "  # xtrain_enhanced.append(x_adv)\n",
        "  x_train_enhanced= np.vstack((x_train, x_adv))\n",
        "  y_train_enhanced= np.vstack((y_train, y_train_ ))\n",
        "\n",
        "  # break\n",
        "\n",
        "# training is done. let's evaluate the performance on the test set\n",
        "# and adversarial examples\n",
        "acc = defended_model._model.evaluate( x_test, y_test )[ 1 ]\n",
        "print( 'acc on the test data: ', acc )\n",
        "\n",
        "# and now on adversarial examples\n",
        "x_test_adv = fgsm.generate( x_test )\n",
        "acc =  defended_model._model.evaluate( x_test_adv, y_test )\n",
        "print( 'accuracy on adversarial examples: ', acc )\n"
      ],
      "execution_count": null,
      "outputs": [
        {
          "output_type": "stream",
          "name": "stderr",
          "text": [
            "/usr/local/lib/python3.7/dist-packages/tensorflow_core/python/framework/tensor_util.py:521: DeprecationWarning: tostring() is deprecated. Use tobytes() instead.\n",
            "  tensor_proto.tensor_content = nparray.tostring()\n",
            "/usr/local/lib/python3.7/dist-packages/tensorflow_core/python/framework/tensor_util.py:521: DeprecationWarning: tostring() is deprecated. Use tobytes() instead.\n",
            "  tensor_proto.tensor_content = nparray.tostring()\n"
          ]
        },
        {
          "output_type": "stream",
          "name": "stdout",
          "text": [
            "_________________________________________________________________\n",
            "Layer (type)                 Output Shape              Param #   \n",
            "=================================================================\n",
            "conv2d_5 (Conv2D)            (None, 26, 26, 32)        320       \n",
            "_________________________________________________________________\n",
            "conv2d_6 (Conv2D)            (None, 24, 24, 64)        18496     \n",
            "_________________________________________________________________\n",
            "max_pooling2d_3 (MaxPooling2 (None, 12, 12, 64)        0         \n",
            "_________________________________________________________________\n",
            "dropout_5 (Dropout)          (None, 12, 12, 64)        0         \n",
            "_________________________________________________________________\n",
            "flatten_3 (Flatten)          (None, 9216)              0         \n",
            "_________________________________________________________________\n",
            "dense_5 (Dense)              (None, 128)               1179776   \n",
            "_________________________________________________________________\n",
            "dropout_6 (Dropout)          (None, 128)               0         \n",
            "_________________________________________________________________\n",
            "dense_6 (Dense)              (None, 2)                 258       \n",
            "=================================================================\n",
            "Total params: 1,198,850\n",
            "Trainable params: 1,198,850\n",
            "Non-trainable params: 0\n",
            "_________________________________________________________________\n",
            "400/400 [==============================] - 1s 2ms/step\n",
            "Test loss: 0.6835225200653077\n",
            "Test accuracy: 0.5975\n",
            "Epoch 1/1\n",
            "400/400 [==============================] - 1s 4ms/step - loss: 0.4535 - acc: 0.8700\n",
            "Epoch 1/1\n",
            "600/600 [==============================] - 2s 3ms/step - loss: 0.5976 - acc: 0.7867\n",
            "Epoch 1/1\n",
            "600/600 [==============================] - 2s 3ms/step - loss: 0.3102 - acc: 0.8250\n",
            "Epoch 1/1\n",
            "600/600 [==============================] - 2s 3ms/step - loss: 0.2635 - acc: 0.8550\n",
            "Epoch 1/1\n",
            "600/600 [==============================] - 2s 3ms/step - loss: 0.2112 - acc: 0.9267\n",
            "400/400 [==============================] - 0s 976us/step\n",
            "acc on the test data:  1.0\n",
            "400/400 [==============================] - 0s 945us/step\n",
            "accuracy on adversarial examples:  [0.5111251187324524, 0.8925]\n"
          ]
        }
      ]
    },
    {
      "cell_type": "markdown",
      "metadata": {
        "id": "WhTCRfbCr6iq"
      },
      "source": [
        "To use the adversarial training that comes with `art`, we need to pass our wrapped model to an `AdversarialTrainer` instance. The `AdversarialTrainer` also needs an instance of the attack that will be used to create the adversarial examples.\n",
        "\n",
        "https://adversarial-robustness-toolbox.readthedocs.io/en/latest/modules/defences/trainer.html#art.defences.trainer.AdversarialTrainer\n",
        "\n",
        "https://github.com/Trusted-AI/adversarial-robustness-toolbox/blob/main/examples/adversarial_training_cifar10.py"
      ]
    },
    {
      "cell_type": "code",
      "metadata": {
        "ExecuteTime": {
          "end_time": "2021-09-20T21:30:23.893487Z",
          "start_time": "2021-09-20T21:30:22.770668Z"
        },
        "id": "uxQZLbgBp9Ay",
        "scrolled": true,
        "colab": {
          "base_uri": "https://localhost:8080/"
        },
        "outputId": "c3ae2007-8d86-4641-ce95-0f0ff19ff933"
      },
      "source": [
        "from art.defences.trainer import AdversarialTrainer\n",
        "\n",
        "# get a new untrained model and warp it\n",
        "new_model = mnist_cnn_model( x_train, y_train, x_test, y_test, epochs=0 )\n",
        "defended_model = KerasClassifier(clip_values=(0,1), model=new_model )\n",
        "# define the attack we are using\n",
        "fgsm = FastGradientMethod( defended_model, eps=0.4 )"
      ],
      "execution_count": null,
      "outputs": [
        {
          "output_type": "stream",
          "name": "stderr",
          "text": [
            "/usr/local/lib/python3.7/dist-packages/tensorflow_core/python/framework/tensor_util.py:521: DeprecationWarning: tostring() is deprecated. Use tobytes() instead.\n",
            "  tensor_proto.tensor_content = nparray.tostring()\n",
            "/usr/local/lib/python3.7/dist-packages/tensorflow_core/python/framework/tensor_util.py:521: DeprecationWarning: tostring() is deprecated. Use tobytes() instead.\n",
            "  tensor_proto.tensor_content = nparray.tostring()\n"
          ]
        },
        {
          "output_type": "stream",
          "name": "stdout",
          "text": [
            "_________________________________________________________________\n",
            "Layer (type)                 Output Shape              Param #   \n",
            "=================================================================\n",
            "conv2d_7 (Conv2D)            (None, 26, 26, 32)        320       \n",
            "_________________________________________________________________\n",
            "conv2d_8 (Conv2D)            (None, 24, 24, 64)        18496     \n",
            "_________________________________________________________________\n",
            "max_pooling2d_4 (MaxPooling2 (None, 12, 12, 64)        0         \n",
            "_________________________________________________________________\n",
            "dropout_7 (Dropout)          (None, 12, 12, 64)        0         \n",
            "_________________________________________________________________\n",
            "flatten_4 (Flatten)          (None, 9216)              0         \n",
            "_________________________________________________________________\n",
            "dense_7 (Dense)              (None, 128)               1179776   \n",
            "_________________________________________________________________\n",
            "dropout_8 (Dropout)          (None, 128)               0         \n",
            "_________________________________________________________________\n",
            "dense_8 (Dense)              (None, 2)                 258       \n",
            "=================================================================\n",
            "Total params: 1,198,850\n",
            "Trainable params: 1,198,850\n",
            "Non-trainable params: 0\n",
            "_________________________________________________________________\n",
            "400/400 [==============================] - 1s 3ms/step\n",
            "Test loss: 0.6901203346252441\n",
            "Test accuracy: 0.5175\n"
          ]
        }
      ]
    },
    {
      "cell_type": "markdown",
      "metadata": {
        "id": "c3geBOs1p9A4"
      },
      "source": [
        "Create the `AdversarialTrainer` instance. \n",
        "Train the model and evaluate it on the test data."
      ]
    },
    {
      "cell_type": "code",
      "metadata": {
        "ExecuteTime": {
          "end_time": "2021-09-20T21:30:25.844711Z",
          "start_time": "2021-09-20T21:30:23.896265Z"
        },
        "id": "8BWvgxNtp9A6",
        "colab": {
          "base_uri": "https://localhost:8080/",
          "height": 132,
          "referenced_widgets": [
            "c57ac378e4bb4179a148784f50c2ccd6",
            "88a231394c924768a3f4d88db7dbb21f",
            "f4679a6f71bd44668f12fa69442043f6",
            "070cfdb307da48ceaba1bb798a1f6108",
            "ba255f9497f641768a51e5f7dc92d6d3",
            "b001b9e3b25140e7b74517de73cea806",
            "7e763b20d0df4a238bdd5149069bfead",
            "a3fe323b66e543ac921f3ae93f319883",
            "9afe8774c2464b0b91a3290d2a83f43c",
            "9f000e5cb7f141d19fbb737fec1d9365",
            "f08fd48b872b477192c5317da8ae04da",
            "41c68756feea4f2fb360b206a37102f5",
            "05fb50e8a6934c859b65fd1a8d755b6d",
            "6d9082119a6842a1a4460041dad4bdda",
            "242cc82eceb640119e44a50faff80643",
            "b5ec1e5a7272419d80e3f1425125dcbf",
            "f7777992449a4741a0a5ddbebd462203",
            "a9f809a7bfe64eb2ba9bd1203cfdf131",
            "72989886dfea4b3d87d6982ffef73f62",
            "2028c1970fb64e4f9d799bd5982a29bc",
            "bef59d14844944e28a5943d287932259",
            "b5960c321f9b4b2ab322877949dbeb69"
          ]
        },
        "outputId": "ce1be4ef-dfec-4bb0-db51-0611c1c37dcf"
      },
      "source": [
        "# define the adversarial trainer and train the new network\n",
        "adversarial_trainer = AdversarialTrainer( defended_model, fgsm )\n",
        "adversarial_trainer.fit( x_train, y_train, batch_size=100, nb_epochs=5 )\n",
        "\n",
        "# evaluate how good our model is\n",
        "defended_model._model.evaluate( x_test,y_test )\n",
        "\n",
        "# and now on adversarial examples\n",
        "x_test_adv = fgsm.generate( x_test )\n",
        "acc = defended_model._model.evaluate( x_test_adv, y_test )\n",
        "print( 'loss and accuracy on adversarial examples: ', acc )\n"
      ],
      "execution_count": null,
      "outputs": [
        {
          "output_type": "display_data",
          "data": {
            "application/vnd.jupyter.widget-view+json": {
              "model_id": "c57ac378e4bb4179a148784f50c2ccd6",
              "version_minor": 0,
              "version_major": 2
            },
            "text/plain": [
              "Precompute adv samples:   0%|          | 0/1 [00:00<?, ?it/s]"
            ]
          },
          "metadata": {}
        },
        {
          "output_type": "display_data",
          "data": {
            "application/vnd.jupyter.widget-view+json": {
              "model_id": "41c68756feea4f2fb360b206a37102f5",
              "version_minor": 0,
              "version_major": 2
            },
            "text/plain": [
              "Adversarial training epochs:   0%|          | 0/5 [00:00<?, ?it/s]"
            ]
          },
          "metadata": {}
        },
        {
          "output_type": "stream",
          "name": "stdout",
          "text": [
            "400/400 [==============================] - 0s 985us/step\n",
            "400/400 [==============================] - 0s 880us/step\n",
            "loss and accuracy on adversarial examples:  [0.42128058671951296, 0.9275]\n"
          ]
        }
      ]
    },
    {
      "cell_type": "markdown",
      "metadata": {
        "id": "KV0kBz2Fp9BA"
      },
      "source": [
        "Calculate the `empirical robustness` for our now hopefully more robust model."
      ]
    },
    {
      "cell_type": "code",
      "metadata": {
        "ExecuteTime": {
          "end_time": "2021-09-20T21:30:26.233877Z",
          "start_time": "2021-09-20T21:30:25.846524Z"
        },
        "id": "Q7CROH1Gp9BE",
        "colab": {
          "base_uri": "https://localhost:8080/",
          "height": 282
        },
        "outputId": "32a58ddc-fe97-411b-ef35-c8a8e661b9fa"
      },
      "source": [
        "# calculate the empiracal robustness\n",
        "print( 'robustness of the defended model', \n",
        "      empirical_robustness( defended_model, x_test[0:], 'fgsm', {}) )\n",
        "\n",
        "x_adv = fgsm.generate(x_test[0].reshape((1,28,28,1) ))\n",
        "print( 'class prediction for the adversarial sample:',\n",
        "       clf.predict( x_adv.reshape((1,28,28,1) ) ) \n",
        "     )\n",
        "plt.imshow( x_adv.reshape( 28, 28 ), cmap=\"gray_r\" )\n",
        "plt.axis( 'off' )\n",
        "plt.show( )"
      ],
      "execution_count": null,
      "outputs": [
        {
          "output_type": "stream",
          "name": "stdout",
          "text": [
            "robustness of the defended model 0.18015748299951628\n",
            "class prediction for the adversarial sample: [[0.99866843 0.00133155]]\n"
          ]
        },
        {
          "output_type": "display_data",
          "data": {
            "image/png": "[encoded data removed]",
            "text/plain": [
              "<Figure size 432x288 with 1 Axes>"
            ]
          },
          "metadata": {
            "needs_background": "light"
          }
        }
      ]
    },
    {
      "cell_type": "markdown",
      "metadata": {
        "id": "zPL9ywQnKu2w"
      },
      "source": [
        "# Defensive Distillation\n",
        "\n",
        "The idea behind defensive distillation is to transfer robustness from one network to another. To do this we are training two networks. The first network, which we will call `one` is trained normally. We want to transfer some of *experience* to our second network, called `two`. Both `one` and `two` have the same architecture. The way we achieve is this is by training `two` with the outputs of `one`. An important change is that we are using a so called *temperature* `T` parameter in the softmax function.\n",
        "The process is as follows:\n",
        "\n",
        "\n",
        "1.   Train `one` at temperature `T`\n",
        "2.   Create new labels for the training data using `one`\n",
        "3.   Train `two` at temperature `T` using the new labels\n",
        "\n",
        "\n",
        "Hints:\n",
        "\n",
        "\n",
        "*   `tf.math.exp`\n",
        "*   `keras.backend.in_train_phase`\n",
        "*   kullback leibler divergence\n",
        "\n",
        "Loss: $H(\\sigma (z^T/ρ), \\sigma (z^S/ρ))$ , T: teacher, S: student, H: Entropy Loss\n",
        "\n",
        "Fig: ![kd](https://media.springernature.com/lw685/springer-static/image/art%3A10.1007%2Fs11263-021-01453-z/MediaObjects/11263_2021_1453_Fig4_HTML.png)\n",
        "\n",
        "Ref:\n",
        "\n",
        "* https://arxiv.org/pdf/1503.02531.pdf\n",
        "\n"
      ]
    },
    {
      "cell_type": "code",
      "metadata": {
        "ExecuteTime": {
          "end_time": "2021-09-20T21:30:31.234121Z",
          "start_time": "2021-09-20T21:30:26.235453Z"
        },
        "id": "DHdXvFx1Sud0",
        "colab": {
          "base_uri": "https://localhost:8080/"
        },
        "outputId": "9bb58424-bf98-425a-8fee-0f92ddf80c62"
      },
      "source": [
        "import tensorflow as tf\n",
        "# softmax with temperature\n",
        "T = 10\n",
        "def softmax_with_temp( x ):\n",
        "  return keras.backend.in_train_phase (\n",
        "      # your code here\n",
        "      #??? # using temperature,\n",
        "      tf.math.exp(x/T) / tf.reduce_sum(x/T, axis=1, keep_dims=True),\n",
        "      # tf.nn.softmax(x/T),\n",
        "      tf.nn.softmax( x )\n",
        "  )\n",
        "  \n",
        "\n",
        "# define the classifier one\n",
        "one = keras.Sequential( )\n",
        "one.add( Conv2D( 32, kernel_size=(3, 3), activation='relu', input_shape=x_train.shape[ 1: ] ) )\n",
        "one.add( Flatten( ) )\n",
        "one.add( Dense( 128, activation='relu' ) )\n",
        "one.add( Dense( y_train.shape[ 1 ], activation=softmax_with_temp ) )\n",
        "\n",
        "# train the classifier one and evaluate on clean test data.\n",
        "one.compile( loss=keras.losses.categorical_crossentropy,\n",
        "              optimizer='adam',\n",
        "              metrics=[ 'accuracy' ] )\n",
        "\n",
        "one.fit( x_train, y_train, epochs=epochs, verbose=1 )\n",
        "\n",
        "one.summary( )\n",
        "\n",
        "score = one.evaluate( x_test, y_test )\n",
        "print( 'Test loss:', score[ 0 ] )\n",
        "print( 'Test accuracy:', score[ 1 ] )\n",
        "\n",
        "\n",
        "# test the FGSM attack\n",
        "one_wrapped = KerasClassifier(clip_values=(0,1), model=one )\n",
        "fgsm = FastGradientMethod( one_wrapped, eps=0.4 )\n",
        "x_test_adv = fgsm.generate( x_test )\n",
        "acc =  one.evaluate( x_test_adv, y_test )\n",
        "print( 'accuracy on adversarial examples: ', acc )\n",
        "\n",
        "# create new labels\n",
        "y_train_new = one.predict( x_train )\n",
        "\n",
        "\n",
        "# define the classifier two\n",
        "two = keras.Sequential( )\n",
        "two.add( Conv2D( 32, kernel_size=(3, 3), activation='relu', input_shape=x_train.shape[ 1: ] ) )\n",
        "two.add( Flatten( ) )\n",
        "two.add( Dense( 128, activation='relu' ) )\n",
        "two.add( Dense( y_train.shape[ 1 ], activation=softmax_with_temp ) )\n",
        "\n",
        "# train the classifier two and evaluate on clean test data using compile and fit as above\n",
        "# your code here\n",
        "#???\n",
        "two.compile( loss=keras.losses.categorical_crossentropy,\n",
        "              optimizer='adam',\n",
        "              metrics=[ 'accuracy' ] )\n",
        "\n",
        "two.summary( )\n",
        "score = two.evaluate( x_test, y_test )\n",
        "print( 'Test loss:', score[ 0 ] )\n",
        "print( 'Test accuracy:', score[ 1 ] )\n",
        "\n",
        "\n",
        "# test the FGSM attack\n",
        "\n",
        "print( 'accuracy on adversarial examples: ', acc )\n"
      ],
      "execution_count": null,
      "outputs": [
        {
          "output_type": "stream",
          "name": "stdout",
          "text": [
            "WARNING:tensorflow:From <ipython-input-23-8fd50f00409c>:8: calling reduce_sum_v1 (from tensorflow.python.ops.math_ops) with keep_dims is deprecated and will be removed in a future version.\n",
            "Instructions for updating:\n",
            "keep_dims is deprecated, use keepdims instead\n"
          ]
        },
        {
          "output_type": "stream",
          "name": "stderr",
          "text": [
            "/usr/local/lib/python3.7/dist-packages/tensorflow_core/python/framework/tensor_util.py:521: DeprecationWarning: tostring() is deprecated. Use tobytes() instead.\n",
            "  tensor_proto.tensor_content = nparray.tostring()\n",
            "/usr/local/lib/python3.7/dist-packages/tensorflow_core/python/framework/tensor_util.py:521: DeprecationWarning: tostring() is deprecated. Use tobytes() instead.\n",
            "  tensor_proto.tensor_content = nparray.tostring()\n"
          ]
        },
        {
          "output_type": "stream",
          "name": "stdout",
          "text": [
            "Epoch 1/5\n",
            "400/400 [==============================] - 2s 5ms/step - loss: 0.3180 - acc: 0.9425\n",
            "Epoch 2/5\n",
            "400/400 [==============================] - 1s 2ms/step - loss: 0.0299 - acc: 0.9950\n",
            "Epoch 3/5\n",
            "400/400 [==============================] - 1s 2ms/step - loss: 0.0193 - acc: 0.9975\n",
            "Epoch 4/5\n",
            "400/400 [==============================] - 1s 2ms/step - loss: 0.0121 - acc: 0.9975\n",
            "Epoch 5/5\n",
            "400/400 [==============================] - 1s 2ms/step - loss: 0.0072 - acc: 0.9975\n",
            "_________________________________________________________________\n",
            "Layer (type)                 Output Shape              Param #   \n",
            "=================================================================\n",
            "conv2d_13 (Conv2D)           (None, 26, 26, 32)        320       \n",
            "_________________________________________________________________\n",
            "flatten_9 (Flatten)          (None, 21632)             0         \n",
            "_________________________________________________________________\n",
            "dense_17 (Dense)             (None, 128)               2769024   \n",
            "_________________________________________________________________\n",
            "dense_18 (Dense)             (None, 2)                 258       \n",
            "=================================================================\n",
            "Total params: 2,769,602\n",
            "Trainable params: 2,769,602\n",
            "Non-trainable params: 0\n",
            "_________________________________________________________________\n",
            "400/400 [==============================] - 1s 1ms/step\n",
            "Test loss: 1.1920928955078125e-07\n",
            "Test accuracy: 1.0\n",
            "400/400 [==============================] - 0s 369us/step\n",
            "accuracy on adversarial examples:  [1.1920928955078125e-07, 1.0]\n"
          ]
        },
        {
          "output_type": "stream",
          "name": "stderr",
          "text": [
            "/usr/local/lib/python3.7/dist-packages/tensorflow_core/python/framework/tensor_util.py:521: DeprecationWarning: tostring() is deprecated. Use tobytes() instead.\n",
            "  tensor_proto.tensor_content = nparray.tostring()\n"
          ]
        },
        {
          "output_type": "stream",
          "name": "stdout",
          "text": [
            "_________________________________________________________________\n",
            "Layer (type)                 Output Shape              Param #   \n",
            "=================================================================\n",
            "conv2d_14 (Conv2D)           (None, 26, 26, 32)        320       \n",
            "_________________________________________________________________\n",
            "flatten_10 (Flatten)         (None, 21632)             0         \n",
            "_________________________________________________________________\n",
            "dense_19 (Dense)             (None, 128)               2769024   \n",
            "_________________________________________________________________\n",
            "dense_20 (Dense)             (None, 2)                 258       \n",
            "=================================================================\n",
            "Total params: 2,769,602\n",
            "Trainable params: 2,769,602\n",
            "Non-trainable params: 0\n",
            "_________________________________________________________________\n",
            "400/400 [==============================] - 1s 3ms/step\n",
            "Test loss: 0.7151124429702759\n",
            "Test accuracy: 0.2175\n",
            "accuracy on adversarial examples:  [1.1920928955078125e-07, 1.0]\n"
          ]
        }
      ]
    },
    {
      "cell_type": "markdown",
      "metadata": {
        "id": "3d2J443nA9k8"
      },
      "source": [
        "# Black box attacks\n",
        "\n",
        "Assume we do not have access to the internal workings of our target model. This means we can not easily calculate gradients.\n",
        "Fortunately or unfortunate depending on how you are looking at it adversarial examples created on one model can be also used against a different model. Given their learned decision boundary is similar enough.\n",
        "\n",
        "We do not know what the target model looks like but in most cases we know the domain that it works in, MNIST in our case, so we can make an educated guess. We then train our model with the architecture that we guessed and create adversarial examples using this model. If our model and the target model are similar enough the adversarial examples can be transfered.\n",
        "\n",
        "\n",
        "In the code below we will be training two different models and see if the adversarial examples transfer from one to the other.\n",
        "\n",
        "Fig: ![bba](https://miro.medium.com/max/1400/1*6FUwsVaUsrtzmKUO_YP-8A.png)\n",
        "\n",
        "Ref: https://arxiv.org/abs/1602.02697"
      ]
    },
    {
      "cell_type": "code",
      "metadata": {
        "ExecuteTime": {
          "end_time": "2021-09-20T21:30:38.878664Z",
          "start_time": "2021-09-20T21:30:31.235840Z"
        },
        "id": "ay5X8686uwA3",
        "scrolled": true
      },
      "source": [
        "import keras\n",
        "import keras.backend as k\n",
        "from keras.models import Sequential\n",
        "from keras.layers import Dense, Flatten, Conv2D, MaxPooling2D, Reshape\n",
        "from keras.datasets import mnist\n",
        "(x_train, y_train), (x_test, y_test) = mnist.load_data()\n",
        "\n",
        "# extract ones and zeroes\n",
        "x_train, y_train = extract_ones_and_zeroes( x_train, y_train )\n",
        "x_test, y_test = extract_ones_and_zeroes( x_test, y_test )\n",
        "\n",
        "# we need to bring the data in to a format that our cnn likes\n",
        "y_train = keras.utils.to_categorical( y_train, 2 )\n",
        "y_test = keras.utils.to_categorical( y_test, 2 )\n",
        "\n",
        "# convert it to a format keras can work with\n",
        "x_train, x_test = convert_to_keras_image_format(x_train, x_test)\n",
        "\n",
        "# Create simple CNN\n",
        "model_0 = mnist_cnn_model( x_train, y_train, x_test, y_test, epochs=5 )\n",
        "print( model_0.evaluate( x_test, y_test )[ 1 ] )\n",
        "\n",
        "\n",
        "# create a simple DNN\n",
        "model_1 = Sequential()\n",
        "model_1.add( Reshape(  [28 * 28 ], input_shape=x_train.shape[ 1: ] ) )# flatten the data\n",
        "model_1.add( Dense( 512, activation='relu' ) ) \n",
        "model_1.add( Dense( 128, activation='relu' ) ) \n",
        "model_1.add( Dense( 2, activation='softmax' ) ) \n",
        "\n",
        "# train model_1\n",
        "model_1.compile( loss='categorical_crossentropy',\n",
        "                 optimizer='adam',\n",
        "                 metrics=[ 'accuracy' ] )\n",
        "model_1.fit( x_train, y_train, epochs=5 )\n",
        "\n",
        "# compare how the models do on the test set\n",
        "acc_0 = model_0.evaluate( x_test, y_test )[ 1 ]\n",
        "acc_1 = model_1.evaluate( x_test, y_test )[ 1 ]\n",
        "\n",
        "print( 'acc model 0: ', acc_0 )\n",
        "print( 'acc model 1: ', acc_1 )\n",
        "\n",
        "\n",
        "# compare how the models perform on adversarial examples\n",
        "# use KerasClassifier and FastGradientMethod\n",
        "# your code here\n",
        "# fgsm_0 = ???\n",
        "# adv_0 = fgsm_0.???\n",
        "wrapper_1= keras.classifier()\n",
        "\n",
        "fgsm_1 = ???\n",
        "adv_1 = fgsm_1.???\n",
        "\n",
        "print( 'acc model 0 on adverserial examples: ', model_0.evaluate( adv_0, y_test, verbose=0 )[ 1 ] )\n",
        "print( 'acc model 1 on adverserial examples: ', model_1.evaluate( adv_1, y_test, verbose=0 )[ 1 ] )\n",
        "\n",
        "\n",
        "# let's see how the models do when we give them the adversarial examples \n",
        "# created against the other model\n",
        "print( 'acc model 0 on adversarial examples from model 1: ', ??? )\n",
        "print( 'acc model 1 on adversarial examples from model 0: ', ??? )\n"
      ],
      "execution_count": null,
      "outputs": []
    }
  ]
}